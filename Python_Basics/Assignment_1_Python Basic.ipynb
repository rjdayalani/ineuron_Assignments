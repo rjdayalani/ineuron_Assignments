{
 "cells": [
  {
   "cell_type": "code",
   "execution_count": 1,
   "id": "072a4531",
   "metadata": {
    "collapsed": true
   },
   "outputs": [
    {
     "data": {
      "text/plain": [
       "\"1. In the below elements which of them are values or an expression? eg:- values can be\\ninteger or string and expressions will be mathematical operators.\\n*\\n'hello'\\n-87.8\\n-\\n/\\n+\\n6 \""
      ]
     },
     "execution_count": 1,
     "metadata": {},
     "output_type": "execute_result"
    }
   ],
   "source": [
    "Q1. In the below elements which of them are values or an expression? eg:- values can be\n",
    "integer or string and expressions will be mathematical operators.\n",
    "*\n",
    "'hello'\n",
    "-87.8\n",
    "-\n",
    "/\n",
    "+\n",
    "6 "
   ]
  },
  {
   "cell_type": "code",
   "execution_count": null,
   "id": "24bf1f96",
   "metadata": {},
   "outputs": [],
   "source": [
    "A1. In the below elements \n",
    "* is expression and its multiply operator\n",
    "'hello' - is vlaue, and its a string value\n",
    "-87.8 - is value and its a float value in negative\n",
    "- is expression and its subtraction operator\n",
    "/ is expression and its division operator\n",
    "+ is expression and its addtion operator\n",
    "6  - is value, and its a integer value"
   ]
  },
  {
   "cell_type": "code",
   "execution_count": null,
   "id": "0062560c",
   "metadata": {},
   "outputs": [],
   "source": []
  },
  {
   "cell_type": "code",
   "execution_count": null,
   "id": "70bacc22",
   "metadata": {},
   "outputs": [],
   "source": [
    "Q2. What is the difference between string and variable?"
   ]
  },
  {
   "cell_type": "code",
   "execution_count": null,
   "id": "4eaba00b",
   "metadata": {},
   "outputs": [],
   "source": [
    "A2.\n",
    "string  - string is a specific type of value that having textual data represent in quotes like 'text1' or \"text2\"\n",
    "\n",
    "variable - A variable is a name that refers to a value stored in memory, variable can be use/assign for any data type\n",
    "like integer, float, string, list, etc. below is some examples of variable\n",
    "a='abc' (here a is variable and type of a is string)\n",
    "b=10 (here b is variable and type of b is integer)\n",
    "c=2.2 (here c is variable and type of c is float)\n",
    "d=[1,3.3,'ineuron',4+5j] (here d is variable and type of d is list)"
   ]
  },
  {
   "cell_type": "code",
   "execution_count": null,
   "id": "891e7cdb",
   "metadata": {},
   "outputs": [],
   "source": []
  },
  {
   "cell_type": "code",
   "execution_count": null,
   "id": "f85dbb94",
   "metadata": {},
   "outputs": [],
   "source": [
    "Q3. Describe three different data types."
   ]
  },
  {
   "cell_type": "code",
   "execution_count": null,
   "id": "9a467f1e",
   "metadata": {},
   "outputs": [],
   "source": [
    "A3. actualy there any more than 3 data type available in python, like integer, float, string, list, tuple, complex, etc.\n",
    "below is 3 data type details\n",
    "\n",
    "1. integer - this data type use for whole number with no decimal point. \n",
    "For example, 15, -3, and 0 all are integers.\n",
    "In Python we can do arithmetic operations such as addition, subtraction, multiplication, moduler/percentage and division\n",
    "\n",
    "2.string - this data type use for text data and write in quotes like 'abc', 'rajesh', etc.\n",
    "\n",
    "3.list - list data type is use for store mulitple or single data type values in a list, also we can add list inside a list\n",
    "below some examples of list\n",
    "a=[1,2,3] here a is list, and value of list can be accessed/identify by its index value like a[0] is 1, a[2] is 3\n",
    "all are integers in a list\n",
    "b=[1,2,3.3,4+5j,'rajesh'] here b is list, and it has multi type of data type inside \n",
    "like b[0] is 1 and type is integer, b[2] is 3.3 and type is float, b[3] is 4+5j its complex type \n",
    "in that 4 is real and 5 is imaginery no., b[4] is 'rajesh' it is string type\n",
    "\n",
    "c=[1,2,3,['a','b'],[5+6j, 9+10j],[3.3,4.5,2.11]] here c is list and its nested list as list inside a list in thi if we want\n",
    "to access 5+6j for that c=[4][0] need to type means it will go to 2nd index from zero index and than go to zero index in a\n",
    "4th index"
   ]
  },
  {
   "cell_type": "code",
   "execution_count": null,
   "id": "ee843b17",
   "metadata": {},
   "outputs": [],
   "source": []
  },
  {
   "cell_type": "code",
   "execution_count": null,
   "id": "9c087ccf",
   "metadata": {},
   "outputs": [],
   "source": [
    "Q4. What is an expression made up of? What do all expressions do?"
   ]
  },
  {
   "cell_type": "code",
   "execution_count": null,
   "id": "83ec3332",
   "metadata": {},
   "outputs": [],
   "source": [
    "A4. expression is meade by combination of operator and operant/variable and which give result after caluculate the condition\n",
    "like \n",
    "a=10 # this is statement\n",
    "a=a+10 # this is expression"
   ]
  },
  {
   "cell_type": "code",
   "execution_count": null,
   "id": "ff3520de",
   "metadata": {},
   "outputs": [],
   "source": []
  },
  {
   "cell_type": "code",
   "execution_count": null,
   "id": "020e5208",
   "metadata": {},
   "outputs": [],
   "source": [
    "Q5. This assignment statements, like spam = 10. What is the difference between an\n",
    "expression and a statement?"
   ]
  },
  {
   "cell_type": "code",
   "execution_count": null,
   "id": "19fa12c8",
   "metadata": {},
   "outputs": [],
   "source": [
    "spam = 10 is showing that variable spam has value 10, but its not calculating or updating in any result or output\n",
    "like in expression we add operators woth operants to calculate and that become expression from assignment\n",
    "spam = 10+a # this is assignment"
   ]
  },
  {
   "cell_type": "code",
   "execution_count": null,
   "id": "1244d4cc",
   "metadata": {},
   "outputs": [],
   "source": []
  },
  {
   "cell_type": "code",
   "execution_count": null,
   "id": "b3cec226",
   "metadata": {},
   "outputs": [],
   "source": [
    "Q6. After running the following code, what does the variable bacon contain?\n",
    "bacon = 22\n",
    "bacon + 1"
   ]
  },
  {
   "cell_type": "code",
   "execution_count": 1,
   "id": "d7b4a270",
   "metadata": {},
   "outputs": [
    {
     "name": "stdout",
     "output_type": "stream",
     "text": [
      "22\n"
     ]
    }
   ],
   "source": [
    "bacon = 22\n",
    "bacon + 1\n",
    "print(bacon)"
   ]
  },
  {
   "cell_type": "code",
   "execution_count": null,
   "id": "1d8ccd77",
   "metadata": {},
   "outputs": [],
   "source": [
    "A6. it will remain same 22 because bacon is not adding 1 in bacon it self as per code, its just showing bacon +1, that is temp.\n",
    "add 1 in bacon but not store in bacon variable"
   ]
  },
  {
   "cell_type": "code",
   "execution_count": 2,
   "id": "35e2ccb9",
   "metadata": {},
   "outputs": [
    {
     "name": "stdout",
     "output_type": "stream",
     "text": [
      "23\n"
     ]
    }
   ],
   "source": [
    "print(bacon+1)"
   ]
  },
  {
   "cell_type": "code",
   "execution_count": 3,
   "id": "17238d1e",
   "metadata": {},
   "outputs": [
    {
     "name": "stdout",
     "output_type": "stream",
     "text": [
      "22\n"
     ]
    }
   ],
   "source": [
    "print(bacon) # to add 1 parmantly in bacon we need to type bacon = bacon + 1"
   ]
  },
  {
   "cell_type": "code",
   "execution_count": null,
   "id": "e38049e0",
   "metadata": {},
   "outputs": [],
   "source": []
  },
  {
   "cell_type": "code",
   "execution_count": null,
   "id": "258f2013",
   "metadata": {},
   "outputs": [],
   "source": [
    "Q7. What should the values of the following two terms be?\n",
    "'spam' + 'spamspam'\n",
    "'spam' * 3"
   ]
  },
  {
   "cell_type": "code",
   "execution_count": null,
   "id": "fb240550",
   "metadata": {},
   "outputs": [],
   "source": [
    "A7. both will have same output, as in \n",
    "'spam' + 'spamspam' = spamspamspam - this will add spam with spamspam\n",
    "spam * 3 - this will print 3 time spam one after one continusly"
   ]
  },
  {
   "cell_type": "code",
   "execution_count": 4,
   "id": "3d4319a3",
   "metadata": {},
   "outputs": [
    {
     "name": "stdout",
     "output_type": "stream",
     "text": [
      "spamspamspam\n",
      "spamspamspam\n"
     ]
    }
   ],
   "source": [
    "print('spam' + 'spamspam')\n",
    "print('spam' * 3)"
   ]
  },
  {
   "cell_type": "code",
   "execution_count": 6,
   "id": "5c8cca49",
   "metadata": {},
   "outputs": [
    {
     "name": "stdout",
     "output_type": "stream",
     "text": [
      "spamspamspam\n",
      "spamspamspam\n"
     ]
    },
    {
     "data": {
      "text/plain": [
       "True"
      ]
     },
     "execution_count": 6,
     "metadata": {},
     "output_type": "execute_result"
    }
   ],
   "source": [
    "print('spam' + 'spamspam') == print('spam' * 3)"
   ]
  },
  {
   "cell_type": "code",
   "execution_count": null,
   "id": "3be21b18",
   "metadata": {},
   "outputs": [],
   "source": []
  },
  {
   "cell_type": "code",
   "execution_count": null,
   "id": "8bf118ae",
   "metadata": {},
   "outputs": [],
   "source": [
    "Q8. Why is eggs a valid variable name while 100 is invalid?"
   ]
  },
  {
   "cell_type": "code",
   "execution_count": null,
   "id": "2852f385",
   "metadata": {},
   "outputs": [],
   "source": [
    "generally in python its prefer to use variable names start with charator or underscore, numbers are recommaneded as its number and we can not start with numbers like"
   ]
  },
  {
   "cell_type": "code",
   "execution_count": 7,
   "id": "6490a191",
   "metadata": {},
   "outputs": [
    {
     "ename": "SyntaxError",
     "evalue": "cannot assign to literal (2046517187.py, line 1)",
     "output_type": "error",
     "traceback": [
      "\u001b[1;36m  File \u001b[1;32m\"C:\\Users\\dayalr\\AppData\\Local\\Temp\\ipykernel_7088\\2046517187.py\"\u001b[1;36m, line \u001b[1;32m1\u001b[0m\n\u001b[1;33m    5=2 # here if i consider or assign 5 as variable then python will not allow as its number\u001b[0m\n\u001b[1;37m    ^\u001b[0m\n\u001b[1;31mSyntaxError\u001b[0m\u001b[1;31m:\u001b[0m cannot assign to literal\n"
     ]
    }
   ],
   "source": [
    "5=2 # here if i consider or assign 5 as variable then python will not allow as its number"
   ]
  },
  {
   "cell_type": "code",
   "execution_count": null,
   "id": "d3f12bf6",
   "metadata": {},
   "outputs": [],
   "source": []
  },
  {
   "cell_type": "code",
   "execution_count": null,
   "id": "346516e7",
   "metadata": {},
   "outputs": [],
   "source": [
    "Q9. What three functions can be used to get the integer, floating-point number, or string\n",
    "version of a value?"
   ]
  },
  {
   "cell_type": "code",
   "execution_count": null,
   "id": "d422e491",
   "metadata": {},
   "outputs": [],
   "source": [
    "A9. for integer  - int() - this will give value as integer \n",
    "for float-point - float() - this will give value as float\n",
    "for string - str() - this will give value in string"
   ]
  },
  {
   "cell_type": "code",
   "execution_count": null,
   "id": "13ef1b6f",
   "metadata": {},
   "outputs": [],
   "source": []
  },
  {
   "cell_type": "code",
   "execution_count": null,
   "id": "14c277de",
   "metadata": {},
   "outputs": [],
   "source": [
    "Q10. Why does this expression cause an error? How can you fix it?\n",
    "'I have eaten ' + 99 + 'burritos.'"
   ]
  },
  {
   "cell_type": "code",
   "execution_count": null,
   "id": "67ed1fb8",
   "metadata": {},
   "outputs": [],
   "source": [
    "A10. because we can not add string with integer value"
   ]
  },
  {
   "cell_type": "code",
   "execution_count": 9,
   "id": "f8e67bce",
   "metadata": {},
   "outputs": [
    {
     "ename": "TypeError",
     "evalue": "can only concatenate str (not \"int\") to str",
     "output_type": "error",
     "traceback": [
      "\u001b[1;31m---------------------------------------------------------------------------\u001b[0m",
      "\u001b[1;31mTypeError\u001b[0m                                 Traceback (most recent call last)",
      "\u001b[1;32m~\\AppData\\Local\\Temp\\ipykernel_7088\\1528418083.py\u001b[0m in \u001b[0;36m<module>\u001b[1;34m\u001b[0m\n\u001b[1;32m----> 1\u001b[1;33m \u001b[0mprint\u001b[0m\u001b[1;33m(\u001b[0m\u001b[1;34m'I have eaten '\u001b[0m \u001b[1;33m+\u001b[0m \u001b[1;36m99\u001b[0m \u001b[1;33m+\u001b[0m \u001b[1;34m'burritos.'\u001b[0m\u001b[1;33m)\u001b[0m\u001b[1;33m\u001b[0m\u001b[1;33m\u001b[0m\u001b[0m\n\u001b[0m",
      "\u001b[1;31mTypeError\u001b[0m: can only concatenate str (not \"int\") to str"
     ]
    }
   ],
   "source": [
    "print('I have eaten ' + 99 + 'burritos.') # in this 99 is integer value and can not add with string"
   ]
  },
  {
   "cell_type": "code",
   "execution_count": 11,
   "id": "fc443bf2",
   "metadata": {},
   "outputs": [
    {
     "name": "stdout",
     "output_type": "stream",
     "text": [
      "I have eaten 99 burritos.\n"
     ]
    }
   ],
   "source": [
    "print('I have eaten ' + '99' + ' burritos.') #solution we can make 99 as string by puting it in quotes"
   ]
  },
  {
   "cell_type": "code",
   "execution_count": null,
   "id": "bd6b4b87",
   "metadata": {},
   "outputs": [],
   "source": [
    "thanks"
   ]
  }
 ],
 "metadata": {
  "kernelspec": {
   "display_name": "Python 3 (ipykernel)",
   "language": "python",
   "name": "python3"
  },
  "language_info": {
   "codemirror_mode": {
    "name": "ipython",
    "version": 3
   },
   "file_extension": ".py",
   "mimetype": "text/x-python",
   "name": "python",
   "nbconvert_exporter": "python",
   "pygments_lexer": "ipython3",
   "version": "3.9.13"
  }
 },
 "nbformat": 4,
 "nbformat_minor": 5
}
