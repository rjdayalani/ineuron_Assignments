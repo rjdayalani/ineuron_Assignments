{
 "cells": [
  {
   "cell_type": "code",
   "execution_count": 2,
   "id": "5f9b0ac0",
   "metadata": {},
   "outputs": [],
   "source": [
    "Q1. 1.What are the two values of the Boolean data type? How do you write them?\n",
    "\n",
    "A1. True and False are value of of boolean data type. to asign boolean value \n",
    "    a=True\n",
    "    b=False\n",
    "    type(a)\n",
    "    type(b)"
   ]
  },
  {
   "cell_type": "code",
   "execution_count": 5,
   "id": "b5c47fa1",
   "metadata": {},
   "outputs": [
    {
     "name": "stdout",
     "output_type": "stream",
     "text": [
      "<class 'bool'>\n",
      "<class 'bool'>\n"
     ]
    }
   ],
   "source": [
    "a=True\n",
    "b=False\n",
    "print(type(a))\n",
    "print(type(b))"
   ]
  },
  {
   "cell_type": "code",
   "execution_count": null,
   "id": "6ee680bd",
   "metadata": {},
   "outputs": [],
   "source": []
  },
  {
   "cell_type": "code",
   "execution_count": null,
   "id": "d2c1fa64",
   "metadata": {},
   "outputs": [],
   "source": [
    "Q2. What are the three different types of Boolean operators?\n",
    "\n",
    "A2. and, or, not, are type for boolean operators "
   ]
  },
  {
   "cell_type": "code",
   "execution_count": 6,
   "id": "886796c9",
   "metadata": {},
   "outputs": [
    {
     "name": "stdout",
     "output_type": "stream",
     "text": [
      "False\n",
      "False\n",
      "True\n"
     ]
    }
   ],
   "source": []
  },
  {
   "cell_type": "code",
   "execution_count": null,
   "id": "2018e24b",
   "metadata": {},
   "outputs": [],
   "source": []
  },
  {
   "cell_type": "code",
   "execution_count": null,
   "id": "5571365c",
   "metadata": {},
   "outputs": [],
   "source": [
    "Q3. Make a list of each Boolean operators truth tables (i.e. every possible combination of Boolean\n",
    "values for the operator and what it evaluate ).\n",
    "\n",
    "A3. like (equals to - == , not equals to - != , more than - > , less than - <\n",
    "                                                        more than equals to - >= , less than equals to - <=)\n",
    "for ex.\n",
    "a=5\n",
    "b=3\n",
    "a==b( this is false)\n",
    "a<b( this is false)\n",
    "b<a(this is true)\n",
    "\n",
    "if we compare any two variable with boolean value than table should be (True = 1 and False = 0)\n",
    "True for and condition\n",
    "1 1 = 1\n",
    "1 0 = 0\n",
    "0 1 = 0\n",
    "0 0 = 0\n",
    "\n",
    "True for or condition\n",
    "1 1 = 1\n",
    "1 0 = 1\n",
    "0 1 = 1\n",
    "0 0 = 0\n",
    "\n",
    "True for not condition\n",
    "1 0\n",
    "0 1\n",
    "means it will reverse the condition value like\n",
    "a<b - False\n",
    "not a<b - True"
   ]
  },
  {
   "cell_type": "code",
   "execution_count": 7,
   "id": "d7f9bace",
   "metadata": {},
   "outputs": [
    {
     "name": "stdout",
     "output_type": "stream",
     "text": [
      "False\n",
      "False\n",
      "True\n"
     ]
    }
   ],
   "source": [
    "a=5\n",
    "b=3\n",
    "print(a==b)#( this is false)\n",
    "print(a<b)#( this is false)\n",
    "print(b<a)#(this is true)"
   ]
  },
  {
   "cell_type": "code",
   "execution_count": 8,
   "id": "377a3161",
   "metadata": {},
   "outputs": [
    {
     "data": {
      "text/plain": [
       "False"
      ]
     },
     "execution_count": 8,
     "metadata": {},
     "output_type": "execute_result"
    }
   ],
   "source": [
    "a<b"
   ]
  },
  {
   "cell_type": "code",
   "execution_count": 9,
   "id": "7b822b0f",
   "metadata": {},
   "outputs": [
    {
     "data": {
      "text/plain": [
       "True"
      ]
     },
     "execution_count": 9,
     "metadata": {},
     "output_type": "execute_result"
    }
   ],
   "source": [
    "not a<b"
   ]
  },
  {
   "cell_type": "code",
   "execution_count": null,
   "id": "81e9f3b9",
   "metadata": {},
   "outputs": [],
   "source": []
  },
  {
   "cell_type": "code",
   "execution_count": null,
   "id": "0d4cf17e",
   "metadata": {},
   "outputs": [],
   "source": [
    "Q4. What are the values of the following expressions?\n",
    "(5 > 4) and (3 == 5)\n",
    "not (5 > 4)\n",
    "(5 > 4) or (3 == 5)\n",
    "not ((5 > 4) or (3 == 5))\n",
    "(True and True) and (True == False)\n",
    "(not False) or (not True)\n",
    "\n",
    "A4. as below\n",
    "(5 > 4) and (3 == 5) # False as and operator not true both condition, 2nd is false\n",
    "not (5 > 4) #False ans not operator reverse condition\n",
    "(5 > 4) or (3 == 5) # True as 1st condition is true\n",
    "not ((5 > 4) or (3 == 5)) # False as both contions are false\n",
    "(True and True) and (True == False) # False as and operator not making both condition true\n",
    "(not False) or (not True) # True as or operator make any one condition true"
   ]
  },
  {
   "cell_type": "code",
   "execution_count": 11,
   "id": "10ab03d0",
   "metadata": {},
   "outputs": [
    {
     "name": "stdout",
     "output_type": "stream",
     "text": [
      "False\n",
      "False\n",
      "True\n",
      "False\n",
      "False\n",
      "True\n"
     ]
    }
   ],
   "source": [
    "print((5 > 4) and (3 == 5))\n",
    "print(not (5 > 4))\n",
    "print((5 > 4) or (3 == 5))\n",
    "print(not ((5 > 4) or (3 == 5)))\n",
    "print((True and True) and (True == False))\n",
    "print((not False) or (not True))"
   ]
  },
  {
   "cell_type": "code",
   "execution_count": null,
   "id": "ef427475",
   "metadata": {},
   "outputs": [],
   "source": []
  },
  {
   "cell_type": "code",
   "execution_count": null,
   "id": "ddb558b6",
   "metadata": {},
   "outputs": [],
   "source": [
    "Q5. What are the six comparison operators?\n",
    "\n",
    "A5. (equals to - == , not equals to - != , more than - > , less than - <\n",
    "                                                        more than equals to - >= , less than equals to - <=)\n",
    "1. ==\n",
    "2. !=\n",
    "3. >\n",
    "4. <\n",
    "5. >=\n",
    "6. <="
   ]
  },
  {
   "cell_type": "code",
   "execution_count": null,
   "id": "cf718f3b",
   "metadata": {},
   "outputs": [],
   "source": []
  },
  {
   "cell_type": "code",
   "execution_count": null,
   "id": "3846b275",
   "metadata": {},
   "outputs": [],
   "source": [
    "Q6. How do you tell the difference between the equal to and assignment operators?Describe a\n",
    "condition and when you would use one.\n",
    "\n",
    "A6. as i understand it ask for = and == usage differnet\n",
    "for that below example\n",
    "a=5 # this will store value 5 in a variable\n",
    "b=3 # this will store 3 value in b variable\n",
    "a==b # this will check/compare both value if both are same it reaturn boolean value in True otherwise in False"
   ]
  },
  {
   "cell_type": "code",
   "execution_count": 12,
   "id": "8ca85337",
   "metadata": {},
   "outputs": [
    {
     "data": {
      "text/plain": [
       "False"
      ]
     },
     "execution_count": 12,
     "metadata": {},
     "output_type": "execute_result"
    }
   ],
   "source": [
    "a==b"
   ]
  },
  {
   "cell_type": "code",
   "execution_count": null,
   "id": "11d5966e",
   "metadata": {},
   "outputs": [],
   "source": []
  },
  {
   "cell_type": "code",
   "execution_count": null,
   "id": "d73f6a78",
   "metadata": {},
   "outputs": [],
   "source": [
    "Q7. Identify the three blocks in this code:\n",
    "spam = 0\n",
    "if spam == 10:\n",
    "print('eggs;')\n",
    "if spam > 5:\n",
    "print('bacon')\n",
    "else:\n",
    "print('ham')\n",
    "print('spam')\n",
    "print('spam')\n",
    "\n",
    "A7. block means indent, means some gap/space to run code as python is indent language, if we do not indent/block it will give error"
   ]
  },
  {
   "cell_type": "code",
   "execution_count": 13,
   "id": "a206076c",
   "metadata": {},
   "outputs": [
    {
     "ename": "IndentationError",
     "evalue": "expected an indented block (102612122.py, line 3)",
     "output_type": "error",
     "traceback": [
      "\u001b[1;36m  File \u001b[1;32m\"C:\\Users\\dayalr\\AppData\\Local\\Temp\\ipykernel_16520\\102612122.py\"\u001b[1;36m, line \u001b[1;32m3\u001b[0m\n\u001b[1;33m    print('eggs;') # need here block after if statment\u001b[0m\n\u001b[1;37m    ^\u001b[0m\n\u001b[1;31mIndentationError\u001b[0m\u001b[1;31m:\u001b[0m expected an indented block\n"
     ]
    }
   ],
   "source": [
    "spam = 0\n",
    "if spam == 10:\n",
    "print('eggs;') # need here block after if statment\n",
    "if spam > 5:\n",
    "print('bacon') # need here block after if statment\n",
    "else:\n",
    "print('ham') # need here block after if statment\n",
    "print('spam')\n",
    "print('spam')"
   ]
  },
  {
   "cell_type": "code",
   "execution_count": 15,
   "id": "798c278d",
   "metadata": {},
   "outputs": [
    {
     "name": "stdout",
     "output_type": "stream",
     "text": [
      "ham\n",
      "spam\n",
      "spam\n"
     ]
    }
   ],
   "source": [
    "spam = 0\n",
    "if spam == 10:\n",
    "    print('eggs;') #block after if statment\n",
    "if spam > 5:\n",
    "    print('bacon') #block after if statment\n",
    "else:\n",
    "    print('ham') #block after if statment\n",
    "print('spam') # this also can block, but output will remain same\n",
    "print('spam') # this also can block, but output will remain same"
   ]
  },
  {
   "cell_type": "code",
   "execution_count": null,
   "id": "ace44172",
   "metadata": {},
   "outputs": [],
   "source": []
  },
  {
   "cell_type": "code",
   "execution_count": null,
   "id": "bca8889e",
   "metadata": {},
   "outputs": [],
   "source": [
    "Q8. Write code that prints Hello if 1 is stored in spam, prints Howdy if 2 is stored in spam, and prints\n",
    "Greetings! if anything else is stored in spam.\n",
    "\n",
    "A8. spam = int(input('enter spam value '))\n",
    "if spam ==1\n",
    "print('hello')\n",
    "if spam == 2\n",
    "print('howdy')\n",
    "else\n",
    "print('greetings')"
   ]
  },
  {
   "cell_type": "code",
   "execution_count": 20,
   "id": "e599a158",
   "metadata": {},
   "outputs": [
    {
     "name": "stdout",
     "output_type": "stream",
     "text": [
      "enter spam value 3\n",
      "Greetings!\n"
     ]
    }
   ],
   "source": [
    "spam = int(input('enter spam value '))\n",
    "if spam ==1:\n",
    "    print('Hello')\n",
    "elif spam == 2:\n",
    "    print('Howdy')\n",
    "else:\n",
    "    print('Greetings!')"
   ]
  },
  {
   "cell_type": "code",
   "execution_count": null,
   "id": "d5bb9272",
   "metadata": {},
   "outputs": [],
   "source": []
  },
  {
   "cell_type": "code",
   "execution_count": null,
   "id": "2edf48d9",
   "metadata": {},
   "outputs": [],
   "source": [
    "Q9.If your programme is stuck in an endless loop, what keys you’ll press?\n",
    "\n",
    "A9. in jupyter notebook its CTRL + C\n"
   ]
  },
  {
   "cell_type": "code",
   "execution_count": 26,
   "id": "ad74ea62",
   "metadata": {},
   "outputs": [
    {
     "ename": "IndentationError",
     "evalue": "unexpected indent (3447134002.py, line 3)",
     "output_type": "error",
     "traceback": [
      "\u001b[1;36m  File \u001b[1;32m\"C:\\Users\\dayalr\\AppData\\Local\\Temp\\ipykernel_16200\\3447134002.py\"\u001b[1;36m, line \u001b[1;32m3\u001b[0m\n\u001b[1;33m    print(i) # this is infinite loop to break it press CTRL + C\u001b[0m\n\u001b[1;37m    ^\u001b[0m\n\u001b[1;31mIndentationError\u001b[0m\u001b[1;31m:\u001b[0m unexpected indent\n"
     ]
    }
   ],
   "source": [
    "i=0\n",
    "while i <10:\n",
    "    print(i) # this is infinite loop to break it press CTRL + C"
   ]
  },
  {
   "cell_type": "code",
   "execution_count": null,
   "id": "6ffe499a",
   "metadata": {},
   "outputs": [],
   "source": []
  },
  {
   "cell_type": "code",
   "execution_count": null,
   "id": "5cdbddc3",
   "metadata": {},
   "outputs": [],
   "source": [
    "Q10. How can you tell the difference between break and continue?\n",
    "\n",
    "A10. break will stop loop contion and come out from loop, and continue will run continue without stoping loop\n",
    "as below example"
   ]
  },
  {
   "cell_type": "code",
   "execution_count": 5,
   "id": "20f71e2d",
   "metadata": {},
   "outputs": [
    {
     "name": "stdout",
     "output_type": "stream",
     "text": [
      "0\n",
      "1\n",
      "2\n",
      "3\n"
     ]
    }
   ],
   "source": [
    "#break example\n",
    "for i in range(10):\n",
    "    if i==4:\n",
    "        break # once i == 4 it will break the loop and stop print i as in for loop\n",
    "    print(i)"
   ]
  },
  {
   "cell_type": "code",
   "execution_count": 6,
   "id": "4537f112",
   "metadata": {},
   "outputs": [
    {
     "name": "stdout",
     "output_type": "stream",
     "text": [
      "0\n",
      "1\n",
      "2\n",
      "3\n",
      "5\n",
      "6\n",
      "7\n",
      "8\n",
      "9\n"
     ]
    }
   ],
   "source": [
    "#continue example\n",
    "for i in range(10):\n",
    "    if i==4:\n",
    "        continue # once i == 4 it will not print that 4 value which is in if condition , and \n",
    "        #continue the loop and keep print i as in for loop till end, it means where condition apply or true that value will\n",
    "        # be skiped by continue\n",
    "    print(i)"
   ]
  },
  {
   "cell_type": "code",
   "execution_count": 12,
   "id": "dc1cc118",
   "metadata": {},
   "outputs": [
    {
     "name": "stdout",
     "output_type": "stream",
     "text": [
      " am lkeng th neuron ver much1\n"
     ]
    }
   ],
   "source": [
    "#another example of continue\n",
    "for a in \"i aim likeing thi ineuron veri much\":\n",
    "    if a == \"i\":\n",
    "        continue # here if a == 'i', it will skip it and continue print after that also\n",
    "    print(a,end=\"\")"
   ]
  },
  {
   "cell_type": "code",
   "execution_count": null,
   "id": "1815c5f6",
   "metadata": {},
   "outputs": [],
   "source": []
  },
  {
   "cell_type": "code",
   "execution_count": null,
   "id": "ffff0707",
   "metadata": {},
   "outputs": [],
   "source": [
    "Q11. In a for loop, what is the difference between range(10), range(0, 10), and range(0, 10, 1)?\n",
    "\n",
    "A11. range(10) an range(0,10) and range(0,10,1) these all 3 are same only,bcos by defult it start from 0, and increment \n",
    "# value is 1 by defult, as below example"
   ]
  },
  {
   "cell_type": "code",
   "execution_count": 19,
   "id": "33e0f0a9",
   "metadata": {},
   "outputs": [
    {
     "name": "stdout",
     "output_type": "stream",
     "text": [
      "0123456789\n",
      "\n",
      "0123456789\n",
      "\n",
      "0123456789"
     ]
    }
   ],
   "source": [
    "for i in range(10):\n",
    "    print(i, end=\"\")\n",
    "print(\"\\n\") \n",
    "for i in range(0,10):\n",
    "    print(i, end=\"\")\n",
    "print(\"\\n\") \n",
    "for i in range(0,10,1):\n",
    "    print(i, end=\"\")"
   ]
  },
  {
   "cell_type": "code",
   "execution_count": null,
   "id": "0996b1f8",
   "metadata": {},
   "outputs": [],
   "source": []
  },
  {
   "cell_type": "code",
   "execution_count": null,
   "id": "f59547f2",
   "metadata": {},
   "outputs": [],
   "source": [
    "Q12. Write a short program that prints the numbers 1 to 10 using a for loop. Then write an equivalent\n",
    "program that prints the numbers 1 to 10 using a while loop.\n",
    "\n",
    "A12. first we'll do with for loop, then with while"
   ]
  },
  {
   "cell_type": "code",
   "execution_count": 22,
   "id": "06a567f9",
   "metadata": {},
   "outputs": [
    {
     "name": "stdout",
     "output_type": "stream",
     "text": [
      "1\n",
      "2\n",
      "3\n",
      "4\n",
      "5\n",
      "6\n",
      "7\n",
      "8\n",
      "9\n",
      "10\n"
     ]
    }
   ],
   "source": [
    "#using for loop\n",
    "for i in range(10):\n",
    "    print(i+1)"
   ]
  },
  {
   "cell_type": "code",
   "execution_count": 25,
   "id": "b5b9e2e0",
   "metadata": {},
   "outputs": [
    {
     "name": "stdout",
     "output_type": "stream",
     "text": [
      "1\n",
      "2\n",
      "3\n",
      "4\n",
      "5\n",
      "6\n",
      "7\n",
      "8\n",
      "9\n",
      "10\n"
     ]
    }
   ],
   "source": [
    "#using while loop\n",
    "i=1\n",
    "while i<11:\n",
    "    print(i)\n",
    "    i+=1"
   ]
  },
  {
   "cell_type": "code",
   "execution_count": null,
   "id": "8c672c31",
   "metadata": {},
   "outputs": [],
   "source": []
  },
  {
   "cell_type": "code",
   "execution_count": null,
   "id": "02d6ac18",
   "metadata": {},
   "outputs": [],
   "source": [
    "Q13. If you had a function named bacon() inside a module named spam, how would you call it after\n",
    "importing spam?\n",
    "\n",
    "A13. spam.bacon() # search from internet, as still function concept not seen in videos"
   ]
  }
 ],
 "metadata": {
  "kernelspec": {
   "display_name": "Python 3 (ipykernel)",
   "language": "python",
   "name": "python3"
  },
  "language_info": {
   "codemirror_mode": {
    "name": "ipython",
    "version": 3
   },
   "file_extension": ".py",
   "mimetype": "text/x-python",
   "name": "python",
   "nbconvert_exporter": "python",
   "pygments_lexer": "ipython3",
   "version": "3.9.13"
  }
 },
 "nbformat": 4,
 "nbformat_minor": 5
}
