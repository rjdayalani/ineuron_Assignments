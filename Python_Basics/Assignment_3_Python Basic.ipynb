{
 "cells": [
  {
   "cell_type": "code",
   "execution_count": null,
   "id": "087e8a37",
   "metadata": {},
   "outputs": [],
   "source": [
    "Q1. Why are functions advantageous to have in your programs?\n",
    "\n",
    "A1. functions are used  to avoid repeatative work, we can make particular task in function and can call muliple time \n",
    "as and where it require, and this will reduce our code length and make it clean and easy to understand\n",
    "also with fuctions we can reduce memory allocation by using lambda and decorative features call in functions\n"
   ]
  },
  {
   "cell_type": "code",
   "execution_count": null,
   "id": "a21c7153",
   "metadata": {},
   "outputs": [],
   "source": []
  },
  {
   "cell_type": "code",
   "execution_count": null,
   "id": "d72db8e3",
   "metadata": {},
   "outputs": [],
   "source": [
    "Q2. When does the code in a function run: when its specified or when its called?\n",
    "\n",
    "A2. when function will execute then it will run and it means functions is called, not when its specified or define "
   ]
  },
  {
   "cell_type": "code",
   "execution_count": null,
   "id": "a17ed497",
   "metadata": {},
   "outputs": [],
   "source": []
  },
  {
   "cell_type": "code",
   "execution_count": null,
   "id": "612b48f8",
   "metadata": {},
   "outputs": [],
   "source": [
    "Q3. What statement creates a function?\n",
    "\n",
    "A3. def statement is used to create a function\n",
    "Ex. - def func1():\n",
    "        print('this is func1')\n",
    "        \n",
    "if we call to func1() it will print 'this is func1' as below"
   ]
  },
  {
   "cell_type": "code",
   "execution_count": 1,
   "id": "f0484b80",
   "metadata": {},
   "outputs": [],
   "source": [
    " def func1():\n",
    "        print('this is func1')"
   ]
  },
  {
   "cell_type": "code",
   "execution_count": 2,
   "id": "c3de492f",
   "metadata": {},
   "outputs": [
    {
     "name": "stdout",
     "output_type": "stream",
     "text": [
      "this is func1\n"
     ]
    }
   ],
   "source": [
    "func1()"
   ]
  },
  {
   "cell_type": "code",
   "execution_count": null,
   "id": "8ee22b79",
   "metadata": {},
   "outputs": [],
   "source": []
  },
  {
   "cell_type": "code",
   "execution_count": null,
   "id": "008e2ddf",
   "metadata": {},
   "outputs": [],
   "source": [
    "Q4. What is the difference between a function and a function call?\n",
    "\n",
    "A4. when we create function that called function and when we execute it that is called function call\n",
    "means whatever in def function writen that inside code is called function whatever we given name on that name its function\n",
    "and when we call it to run that inside code of that function to get its return or print value,\n",
    "that called the function call, see as below"
   ]
  },
  {
   "cell_type": "code",
   "execution_count": null,
   "id": "ac3ca185",
   "metadata": {},
   "outputs": [],
   "source": [
    "def func1():\n",
    "    print('this is func1')\n",
    "both func1 is a function and it will return a print when and where it will call"
   ]
  },
  {
   "cell_type": "code",
   "execution_count": 3,
   "id": "ec0e984c",
   "metadata": {},
   "outputs": [
    {
     "name": "stdout",
     "output_type": "stream",
     "text": [
      "this is func1\n"
     ]
    }
   ],
   "source": [
    "func1() #this will called the function call of func1 and it will print 'this is func1'"
   ]
  },
  {
   "cell_type": "code",
   "execution_count": null,
   "id": "d7eed1e1",
   "metadata": {},
   "outputs": [],
   "source": []
  },
  {
   "cell_type": "code",
   "execution_count": null,
   "id": "abc0fcf6",
   "metadata": {},
   "outputs": [],
   "source": [
    "Q5. How many global scopes are there in a Python program? How many local scopes?\n",
    "\n",
    "A5. if we create any variable, function etc. in main body it will call as global and it can access in global and local in\n",
    "both, so one scope for global and one for local\n",
    "where as if we create any variable or function inside any function that will called as local that can no access in global\n",
    "so it has one scope only in local, see as below"
   ]
  },
  {
   "cell_type": "code",
   "execution_count": 5,
   "id": "209c2dcd",
   "metadata": {},
   "outputs": [],
   "source": [
    "a=5 # here a is global variable as its outside of fucntion so we can call it in side local function too\n",
    "def func1():\n",
    "    return a # calling a inside func1"
   ]
  },
  {
   "cell_type": "code",
   "execution_count": 7,
   "id": "499d8a1f",
   "metadata": {},
   "outputs": [
    {
     "data": {
      "text/plain": [
       "5"
      ]
     },
     "execution_count": 7,
     "metadata": {},
     "output_type": "execute_result"
    }
   ],
   "source": [
    "func1() # this will call a and return its value"
   ]
  },
  {
   "cell_type": "code",
   "execution_count": 8,
   "id": "de40cd99",
   "metadata": {},
   "outputs": [],
   "source": [
    "def func2():\n",
    "    b=10\n",
    "    return b"
   ]
  },
  {
   "cell_type": "code",
   "execution_count": 11,
   "id": "dc6b0ee0",
   "metadata": {},
   "outputs": [
    {
     "data": {
      "text/plain": [
       "5"
      ]
     },
     "execution_count": 11,
     "metadata": {},
     "output_type": "execute_result"
    }
   ],
   "source": [
    "a #as a is globally created it can be accessed outside"
   ]
  },
  {
   "cell_type": "code",
   "execution_count": 13,
   "id": "ebbc29c0",
   "metadata": {},
   "outputs": [
    {
     "ename": "NameError",
     "evalue": "name 'b' is not defined",
     "output_type": "error",
     "traceback": [
      "\u001b[1;31m---------------------------------------------------------------------------\u001b[0m",
      "\u001b[1;31mNameError\u001b[0m                                 Traceback (most recent call last)",
      "\u001b[1;32m~\\AppData\\Local\\Temp\\ipykernel_4200\\3163719980.py\u001b[0m in \u001b[0;36m<module>\u001b[1;34m\u001b[0m\n\u001b[1;32m----> 1\u001b[1;33m \u001b[0mb\u001b[0m\u001b[1;31m# as b is inside func2 its local variable so can not access out side\u001b[0m\u001b[1;33m\u001b[0m\u001b[1;33m\u001b[0m\u001b[0m\n\u001b[0m",
      "\u001b[1;31mNameError\u001b[0m: name 'b' is not defined"
     ]
    }
   ],
   "source": [
    "b# as b is inside func2 its local variable so can not access out side"
   ]
  },
  {
   "cell_type": "code",
   "execution_count": 14,
   "id": "64efc66f",
   "metadata": {},
   "outputs": [
    {
     "data": {
      "text/plain": [
       "10"
      ]
     },
     "execution_count": 14,
     "metadata": {},
     "output_type": "execute_result"
    }
   ],
   "source": [
    "func2()#here b will access as in func2"
   ]
  },
  {
   "cell_type": "code",
   "execution_count": null,
   "id": "41475374",
   "metadata": {},
   "outputs": [],
   "source": []
  },
  {
   "cell_type": "code",
   "execution_count": null,
   "id": "5854be1b",
   "metadata": {},
   "outputs": [],
   "source": [
    "Q6. What happens to variables in a local scope when the function call returns?\n",
    "\n",
    "A6. when that particular local function will call only that time it will return the value of that variable\n",
    "and outside that function we can not use variable created in a local scope \n",
    "it will show error that variable name not define if we use it outside that function"
   ]
  },
  {
   "cell_type": "code",
   "execution_count": null,
   "id": "2dfb206e",
   "metadata": {},
   "outputs": [],
   "source": []
  },
  {
   "cell_type": "code",
   "execution_count": null,
   "id": "1def2abc",
   "metadata": {},
   "outputs": [],
   "source": [
    "Q7. What is the concept of a return value? Is it possible to have a return value in an expression?\n",
    "\n",
    "A7. concept of return value in function is same like for any other evaluates/process for any logic or calulation\n",
    "and yes in expression its possible to have a return value\n",
    "as expression also process same code in function"
   ]
  },
  {
   "cell_type": "code",
   "execution_count": null,
   "id": "645d5aac",
   "metadata": {},
   "outputs": [],
   "source": []
  },
  {
   "cell_type": "code",
   "execution_count": null,
   "id": "ab1be284",
   "metadata": {},
   "outputs": [],
   "source": [
    "Q8. If a function does not have a return statement, what is the return value of a call to that function?\n",
    "\n",
    "A8. it will show None type as nothing in return , see as below"
   ]
  },
  {
   "cell_type": "code",
   "execution_count": 20,
   "id": "116ba81d",
   "metadata": {},
   "outputs": [],
   "source": [
    "def func3():\n",
    "    #print('no return function')\n",
    "    pass"
   ]
  },
  {
   "cell_type": "code",
   "execution_count": 21,
   "id": "41feb281",
   "metadata": {},
   "outputs": [],
   "source": [
    "func3()"
   ]
  },
  {
   "cell_type": "code",
   "execution_count": 23,
   "id": "cc3f1085",
   "metadata": {},
   "outputs": [
    {
     "data": {
      "text/plain": [
       "NoneType"
      ]
     },
     "execution_count": 23,
     "metadata": {},
     "output_type": "execute_result"
    }
   ],
   "source": [
    "type(func3()) #in both print and pass it will be only none type"
   ]
  },
  {
   "cell_type": "code",
   "execution_count": null,
   "id": "fd6bc11e",
   "metadata": {},
   "outputs": [],
   "source": []
  },
  {
   "cell_type": "code",
   "execution_count": null,
   "id": "0b543c18",
   "metadata": {},
   "outputs": [],
   "source": [
    "Q9. How do you make a function variable refer to the global variable?\n",
    "\n",
    "A9. the global keyword will allow variable in function to refer/use as global variable"
   ]
  },
  {
   "cell_type": "code",
   "execution_count": null,
   "id": "c8aa8c7e",
   "metadata": {},
   "outputs": [],
   "source": []
  },
  {
   "cell_type": "code",
   "execution_count": null,
   "id": "60add311",
   "metadata": {},
   "outputs": [],
   "source": [
    "Q10. What is the data type of None?\n",
    "\n",
    "A10. NoneType, see as below"
   ]
  },
  {
   "cell_type": "code",
   "execution_count": 24,
   "id": "88663a5d",
   "metadata": {},
   "outputs": [
    {
     "data": {
      "text/plain": [
       "NoneType"
      ]
     },
     "execution_count": 24,
     "metadata": {},
     "output_type": "execute_result"
    }
   ],
   "source": [
    "type(None)"
   ]
  },
  {
   "cell_type": "code",
   "execution_count": null,
   "id": "bf9aa7eb",
   "metadata": {},
   "outputs": [],
   "source": [
    "Q11. What does the sentence import areallyourpetsnamederic do?\n",
    "\n",
    "A11. it will import areallyourpetsnamederic module from python liabrary - but as search on internet its not python module\n",
    "so i dont know how it will import in our IDE"
   ]
  },
  {
   "cell_type": "code",
   "execution_count": 26,
   "id": "fdf4e4a3",
   "metadata": {},
   "outputs": [
    {
     "ename": "ModuleNotFoundError",
     "evalue": "No module named 'areallyourpetsnamederic'",
     "output_type": "error",
     "traceback": [
      "\u001b[1;31m---------------------------------------------------------------------------\u001b[0m",
      "\u001b[1;31mModuleNotFoundError\u001b[0m                       Traceback (most recent call last)",
      "\u001b[1;32m~\\AppData\\Local\\Temp\\ipykernel_4200\\87693026.py\u001b[0m in \u001b[0;36m<module>\u001b[1;34m\u001b[0m\n\u001b[1;32m----> 1\u001b[1;33m \u001b[1;32mimport\u001b[0m \u001b[0mareallyourpetsnamederic\u001b[0m \u001b[1;31m# its not available\u001b[0m\u001b[1;33m\u001b[0m\u001b[1;33m\u001b[0m\u001b[0m\n\u001b[0m",
      "\u001b[1;31mModuleNotFoundError\u001b[0m: No module named 'areallyourpetsnamederic'"
     ]
    }
   ],
   "source": [
    "import areallyourpetsnamederic # its not available"
   ]
  },
  {
   "cell_type": "code",
   "execution_count": null,
   "id": "3ca239e7",
   "metadata": {},
   "outputs": [],
   "source": []
  },
  {
   "cell_type": "code",
   "execution_count": null,
   "id": "bde56209",
   "metadata": {},
   "outputs": [],
   "source": [
    "Q12. If you had a bacon() feature in a spam module, what would you call it after importing spam?\n",
    "\n",
    "A12. after import spam module we can call bacon feature/function as below\n",
    "spam.bacon() # but not tested yet"
   ]
  },
  {
   "cell_type": "code",
   "execution_count": null,
   "id": "1eff123d",
   "metadata": {},
   "outputs": [],
   "source": []
  },
  {
   "cell_type": "code",
   "execution_count": null,
   "id": "6987b37f",
   "metadata": {},
   "outputs": [],
   "source": [
    "Q13. What can you do to save a programme from crashing if it encounters an error?\n",
    "\n",
    "A13. it depends on situation what type of error and in which IDE, like if its in jupyter notebook we goto kernel and \n",
    "restart kernel\n",
    "and fix error, like if its syntex error, we will fix it as require\n",
    "if its any loop can break it by stop button in jupyter, called intrupt kernel\n",
    "or we can press break key, or use below cases as require\n",
    "\n",
    "below search from internet\n",
    "use break and the loop will end\n",
    "use pass and the program will pass to the next instruction\n",
    "sys.exit() exit() quit() and os._exit(0) will kill the Python interpreter so avoid if possible or at least use with caution"
   ]
  },
  {
   "cell_type": "code",
   "execution_count": null,
   "id": "c06fe33d",
   "metadata": {},
   "outputs": [],
   "source": []
  },
  {
   "cell_type": "code",
   "execution_count": null,
   "id": "93bfb9e2",
   "metadata": {},
   "outputs": [],
   "source": [
    "Q14. What is the purpose of the try clause? What is the purpose of the except clause?\n",
    "\n",
    "A14. its like if else condition like in try any error is possible it will jump to except line and continue code\n",
    "see as below"
   ]
  },
  {
   "cell_type": "code",
   "execution_count": 30,
   "id": "52c3d7c2",
   "metadata": {},
   "outputs": [
    {
     "name": "stdout",
     "output_type": "stream",
     "text": [
      "except will execute if error in try\n"
     ]
    }
   ],
   "source": [
    "try:\n",
    "  print(a1) # like here a1 is not define it should return error, but as its in try it will go to except and continue execute\n",
    "except:\n",
    "  print('except will execute if error in try')"
   ]
  },
  {
   "cell_type": "code",
   "execution_count": null,
   "id": "ab92beea",
   "metadata": {},
   "outputs": [],
   "source": []
  },
  {
   "cell_type": "code",
   "execution_count": null,
   "id": "52c808e8",
   "metadata": {},
   "outputs": [],
   "source": []
  }
 ],
 "metadata": {
  "kernelspec": {
   "display_name": "Python 3 (ipykernel)",
   "language": "python",
   "name": "python3"
  },
  "language_info": {
   "codemirror_mode": {
    "name": "ipython",
    "version": 3
   },
   "file_extension": ".py",
   "mimetype": "text/x-python",
   "name": "python",
   "nbconvert_exporter": "python",
   "pygments_lexer": "ipython3",
   "version": "3.9.13"
  }
 },
 "nbformat": 4,
 "nbformat_minor": 5
}
