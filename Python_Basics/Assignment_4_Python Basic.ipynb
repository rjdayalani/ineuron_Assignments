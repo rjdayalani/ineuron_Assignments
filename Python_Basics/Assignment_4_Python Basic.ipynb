{
 "cells": [
  {
   "cell_type": "code",
   "execution_count": null,
   "id": "c8fb78b6",
   "metadata": {},
   "outputs": [],
   "source": [
    "Q1. What exactly is []?\n",
    "\n",
    "A1. [] called brackets its used for create list and for slicing \n",
    "like a=[] this means a is list which is blank\n",
    "a[1,2,3]\n",
    "a[0] means its pointing to a of zero;s index which is 1 and its on 1st postion in list a"
   ]
  },
  {
   "cell_type": "code",
   "execution_count": null,
   "id": "2f66fe28",
   "metadata": {},
   "outputs": [],
   "source": []
  },
  {
   "cell_type": "code",
   "execution_count": null,
   "id": "d1776758",
   "metadata": {},
   "outputs": [],
   "source": [
    "Q2. In a list of values stored in a variable called spam, how would you assign the value 'hello' as the\n",
    "third value? (Assume [2, 4, 6, 8, 10] are in spam.)\n",
    "\n",
    "here what i understand its asking for 3rd potition value replacement means 'hello' will replace to 6\n",
    "A2. ok here in spam we use = operator on spam of 2nd index so it will add 'hello' on 3rd value as index start from zero\n",
    "see below code"
   ]
  },
  {
   "cell_type": "code",
   "execution_count": 2,
   "id": "2f9f5f6d",
   "metadata": {},
   "outputs": [
    {
     "name": "stdout",
     "output_type": "stream",
     "text": [
      "[2, 4, 'hello', 8, 10]\n"
     ]
    }
   ],
   "source": [
    "spam=[2, 4, 6, 8, 10] # here right now 6 is on 3rd possion \n",
    "spam[2]='hello' #after adding this 'hello' will add on 3rd potition in place of 6 and after that rest of items will automatically move \n",
    "# one potition ahead from its last potition\n",
    "print(spam)"
   ]
  },
  {
   "cell_type": "code",
   "execution_count": 6,
   "id": "0b9a4d9c",
   "metadata": {},
   "outputs": [
    {
     "name": "stdout",
     "output_type": "stream",
     "text": [
      "[2, 4, 'hello', 6, 8, 10]\n"
     ]
    }
   ],
   "source": [
    "# to update in spam list we use insert command \n",
    "spam=[2, 4, 6, 8, 10]\n",
    "spam.insert(2,'hello') # here 2 is index value of spam list and 'hello' is added on that index number\n",
    "print(spam)"
   ]
  },
  {
   "cell_type": "code",
   "execution_count": null,
   "id": "f1913b5d",
   "metadata": {},
   "outputs": [],
   "source": []
  },
  {
   "cell_type": "code",
   "execution_count": null,
   "id": "798391ef",
   "metadata": {},
   "outputs": [],
   "source": [
    "Let's pretend the spam includes the list ['a','b','c','d'] for the next three queries."
   ]
  },
  {
   "cell_type": "code",
   "execution_count": null,
   "id": "e8d16df8",
   "metadata": {},
   "outputs": [],
   "source": [
    "Q3. What is the value of spam[int(int('3'*2)//11)] ?\n",
    "\n",
    "A3. here 1st it will resolve '3'*2 = '33' and convert it to integer and become numeric 33 and then // by 11\n",
    " as its double // slash it will return out put in integer that is numeric 3 and in [int[(3)]] will remain at lat\n",
    " that means it calling index number 3 of spam list and that is 'd'\n",
    "finaly 'd' will be the output, see below code"
   ]
  },
  {
   "cell_type": "code",
   "execution_count": 16,
   "id": "ba0f9f9e",
   "metadata": {},
   "outputs": [
    {
     "name": "stdout",
     "output_type": "stream",
     "text": [
      "d\n"
     ]
    }
   ],
   "source": [
    "spam=['a','b','c','d']\n",
    "print(spam[int(int('3'*2)//11)]) #'33' convert in int and divide by 11, remain 3 is added in index of spam and its 'd'"
   ]
  },
  {
   "cell_type": "code",
   "execution_count": 17,
   "id": "df971136",
   "metadata": {},
   "outputs": [
    {
     "data": {
      "text/plain": [
       "'d'"
      ]
     },
     "execution_count": 17,
     "metadata": {},
     "output_type": "execute_result"
    }
   ],
   "source": [
    "spam[int(3)]"
   ]
  },
  {
   "cell_type": "code",
   "execution_count": 18,
   "id": "42a5042b",
   "metadata": {},
   "outputs": [
    {
     "name": "stdout",
     "output_type": "stream",
     "text": [
      "d\n"
     ]
    }
   ],
   "source": [
    "spam=['a','b','c','d']\n",
    "print(spam[(int('3'*2)//11)]) #same thing also can be done with single time use of int, the output will remain same"
   ]
  },
  {
   "cell_type": "code",
   "execution_count": null,
   "id": "b3190080",
   "metadata": {},
   "outputs": [],
   "source": []
  },
  {
   "cell_type": "code",
   "execution_count": null,
   "id": "cd3caf51",
   "metadata": {},
   "outputs": [],
   "source": [
    "Q4. What is the value of spam[-1]?\n",
    "\n",
    "A4. here spam=['a','b','c','d'] and if we count from right to left the nagative index will start from -1 and 'd' is on -1\n",
    "see below code"
   ]
  },
  {
   "cell_type": "code",
   "execution_count": 19,
   "id": "c3ad1c99",
   "metadata": {},
   "outputs": [
    {
     "data": {
      "text/plain": [
       "'d'"
      ]
     },
     "execution_count": 19,
     "metadata": {},
     "output_type": "execute_result"
    }
   ],
   "source": [
    "spam=['a','b','c','d']\n",
    "spam[-1] # here 'd' is on -1 index of spam"
   ]
  },
  {
   "cell_type": "code",
   "execution_count": null,
   "id": "eed26b2b",
   "metadata": {},
   "outputs": [],
   "source": []
  },
  {
   "cell_type": "code",
   "execution_count": null,
   "id": "27a3e558",
   "metadata": {},
   "outputs": [],
   "source": [
    "Q5. What is the value of spam[:2]?\n",
    "\n",
    "A5. here : colon used for range in slicing means any start index to any end no. of index as per requirement\n",
    "by defualt index start from zero and after : its given 2 means it will go upto index 1 from index zero\n",
    "note ending given index number is exluded so it will take value of index 0 to index 1 that is 'a' and 'b', see below code"
   ]
  },
  {
   "cell_type": "code",
   "execution_count": 21,
   "id": "bcd8b7c5",
   "metadata": {},
   "outputs": [
    {
     "data": {
      "text/plain": [
       "['a', 'b']"
      ]
     },
     "execution_count": 21,
     "metadata": {},
     "output_type": "execute_result"
    }
   ],
   "source": [
    "spam=['a','b','c','d']\n",
    "spam[:2] # it will not include ending index as its exluded in python"
   ]
  },
  {
   "cell_type": "code",
   "execution_count": null,
   "id": "b2c746db",
   "metadata": {},
   "outputs": [],
   "source": []
  },
  {
   "cell_type": "code",
   "execution_count": null,
   "id": "3361e569",
   "metadata": {},
   "outputs": [],
   "source": [
    "Let's pretend bacon has the list [3.14,'cat',11,'cat',True] for the next three question"
   ]
  },
  {
   "cell_type": "code",
   "execution_count": null,
   "id": "7119cd4c",
   "metadata": {},
   "outputs": [],
   "source": [
    "Q6. What is the value of bacon.index('cat')?\n",
    "\n",
    "A6. as its on 1st index of bacon list it will give 1 in output, see below code\n",
    "as it will find from left to right in list and first occurence;s index value it will return"
   ]
  },
  {
   "cell_type": "code",
   "execution_count": 23,
   "id": "fae657f1",
   "metadata": {},
   "outputs": [
    {
     "data": {
      "text/plain": [
       "1"
      ]
     },
     "execution_count": 23,
     "metadata": {},
     "output_type": "execute_result"
    }
   ],
   "source": [
    "bacon=[3.14,'cat',11,'cat',True]\n",
    "bacon.index('cat') # cat is on 2nd potition of bacon list and index start from zero so it will give 1 as index number of it"
   ]
  },
  {
   "cell_type": "code",
   "execution_count": null,
   "id": "376beab5",
   "metadata": {},
   "outputs": [],
   "source": []
  },
  {
   "cell_type": "code",
   "execution_count": null,
   "id": "653f9dd1",
   "metadata": {},
   "outputs": [],
   "source": [
    "Q7. How does bacon.append(99) change the look of the list value in bacon?\n",
    "\n",
    "A7. append method will add element at the last of list\n",
    "so after adding 99 by append method bacon will =[3.14,'cat',11,'cat',True,99] see below code"
   ]
  },
  {
   "cell_type": "code",
   "execution_count": 24,
   "id": "3768a512",
   "metadata": {},
   "outputs": [
    {
     "data": {
      "text/plain": [
       "[3.14, 'cat', 11, 'cat', True, 99]"
      ]
     },
     "execution_count": 24,
     "metadata": {},
     "output_type": "execute_result"
    }
   ],
   "source": [
    "bacon=[3.14,'cat',11,'cat',True]\n",
    "bacon.append(99) #this will add 99 at the end of bacon list means at -1 index we can say\n",
    "bacon"
   ]
  },
  {
   "cell_type": "code",
   "execution_count": null,
   "id": "4d315e36",
   "metadata": {},
   "outputs": [],
   "source": []
  },
  {
   "cell_type": "code",
   "execution_count": null,
   "id": "1dded2ae",
   "metadata": {},
   "outputs": [],
   "source": [
    "Q8. How does bacon.remove('cat') change the look of the list in bacon?\n",
    "\n",
    "A8. same like index method here remove method also remove given value on basis of 1st occurence from left to right index\n",
    "and remove only 1st found item which given, see below code"
   ]
  },
  {
   "cell_type": "code",
   "execution_count": 25,
   "id": "eb91171b",
   "metadata": {},
   "outputs": [
    {
     "data": {
      "text/plain": [
       "[3.14, 11, 'cat', True]"
      ]
     },
     "execution_count": 25,
     "metadata": {},
     "output_type": "execute_result"
    }
   ],
   "source": [
    "bacon=[3.14,'cat',11,'cat',True]\n",
    "bacon.remove('cat')# here 1st 'cat' will remove which is after 3.14 and before 11, as it will found first in index search\n",
    "bacon"
   ]
  },
  {
   "cell_type": "code",
   "execution_count": null,
   "id": "29fbe4c4",
   "metadata": {},
   "outputs": [],
   "source": []
  },
  {
   "cell_type": "code",
   "execution_count": null,
   "id": "dcc7071a",
   "metadata": {},
   "outputs": [],
   "source": [
    "Q9. What are the list concatenation and list replication operators?\n",
    "\n",
    "A10. concatenation means to add in list (+) plus and replication means to repeat same list/ list item N times by multiply\n",
    "it (x) into means * . see as below"
   ]
  },
  {
   "cell_type": "code",
   "execution_count": 2,
   "id": "5cbb9148",
   "metadata": {},
   "outputs": [
    {
     "data": {
      "text/plain": [
       "[1, 2, 3, 4, 5, 6]"
      ]
     },
     "execution_count": 2,
     "metadata": {},
     "output_type": "execute_result"
    }
   ],
   "source": [
    "l=[1,2,3]\n",
    "l1=l+[4,5,6] # this is concatenation of l and [4,5,6]\n",
    "l1"
   ]
  },
  {
   "cell_type": "code",
   "execution_count": 4,
   "id": "705fcf18",
   "metadata": {},
   "outputs": [
    {
     "data": {
      "text/plain": [
       "[1, 2, 3, 1, 2, 3, 1, 2, 3]"
      ]
     },
     "execution_count": 4,
     "metadata": {},
     "output_type": "execute_result"
    }
   ],
   "source": [
    "l*3 #this is replication of l, it will return 3 times of l list"
   ]
  },
  {
   "cell_type": "code",
   "execution_count": null,
   "id": "783fd317",
   "metadata": {},
   "outputs": [],
   "source": []
  },
  {
   "cell_type": "code",
   "execution_count": null,
   "id": "8c5a05d6",
   "metadata": {},
   "outputs": [],
   "source": [
    "Q10. What is difference between the list methods append() and insert()?\n",
    "\n",
    "A10. append will add an item at the end of list, in last index\n",
    "where as insert will add item on given index number, see as below"
   ]
  },
  {
   "cell_type": "code",
   "execution_count": 6,
   "id": "976db301",
   "metadata": {},
   "outputs": [
    {
     "data": {
      "text/plain": [
       "[1, 2, 3, 4]"
      ]
     },
     "execution_count": 6,
     "metadata": {},
     "output_type": "execute_result"
    }
   ],
   "source": [
    "l=[1,2,3]\n",
    "l.append(4)# this will add 4 at the last\n",
    "l"
   ]
  },
  {
   "cell_type": "code",
   "execution_count": 8,
   "id": "b0ab56f4",
   "metadata": {},
   "outputs": [
    {
     "data": {
      "text/plain": [
       "[1, 5, 2, 3]"
      ]
     },
     "execution_count": 8,
     "metadata": {},
     "output_type": "execute_result"
    }
   ],
   "source": [
    "l=[1,2,3]\n",
    "l.insert(1,5) #this will add 5, at 1 number index location means on 2nd rank/position in l link\n",
    "l"
   ]
  },
  {
   "cell_type": "code",
   "execution_count": null,
   "id": "5abceccc",
   "metadata": {},
   "outputs": [],
   "source": []
  },
  {
   "cell_type": "code",
   "execution_count": 9,
   "id": "206b2854",
   "metadata": {},
   "outputs": [
    {
     "ename": "SyntaxError",
     "evalue": "invalid syntax (1797305174.py, line 3)",
     "output_type": "error",
     "traceback": [
      "\u001b[1;36m  File \u001b[1;32m\"C:\\Users\\dayalr\\AppData\\Local\\Temp\\ipykernel_14836\\1797305174.py\"\u001b[1;36m, line \u001b[1;32m3\u001b[0m\n\u001b[1;33m    A11. pop and remove are two methods for removing items from a list\u001b[0m\n\u001b[1;37m                        ^\u001b[0m\n\u001b[1;31mSyntaxError\u001b[0m\u001b[1;31m:\u001b[0m invalid syntax\n"
     ]
    }
   ],
   "source": [
    "Q11. What are the two methods for removing items from a list?\n",
    "\n",
    "A11. pop and remove are two methods for removing items from a list\n",
    "see below"
   ]
  },
  {
   "cell_type": "code",
   "execution_count": 10,
   "id": "5b62159d",
   "metadata": {},
   "outputs": [
    {
     "data": {
      "text/plain": [
       "[1, 2, 4, 5, 3, 6]"
      ]
     },
     "execution_count": 10,
     "metadata": {},
     "output_type": "execute_result"
    }
   ],
   "source": [
    "l=[1,2,3,4,5,3,6]\n",
    "l.remove(3)#it will remove the first occurence of a item from left to right in list, 3 will remove, which is after 2 and before 4\n",
    "l"
   ]
  },
  {
   "cell_type": "code",
   "execution_count": 12,
   "id": "aca583ba",
   "metadata": {},
   "outputs": [
    {
     "data": {
      "text/plain": [
       "[1, 2, 3, 4, 5, 3]"
      ]
     },
     "execution_count": 12,
     "metadata": {},
     "output_type": "execute_result"
    }
   ],
   "source": [
    "l=[1,2,3,4,5,3,6]\n",
    "l.pop() # pop will remove last item from list i.e 6\n",
    "l"
   ]
  },
  {
   "cell_type": "code",
   "execution_count": null,
   "id": "86ac0476",
   "metadata": {},
   "outputs": [],
   "source": []
  },
  {
   "cell_type": "code",
   "execution_count": null,
   "id": "04b2ee2e",
   "metadata": {},
   "outputs": [],
   "source": [
    "Q12. Describe how list values and string values are identical.\n",
    "\n",
    "A12. identical, if it means similaries or common methods can use then below few similaries given\n",
    "   \n",
    "    1. lists and strings, we can use in len() to count that much times \n",
    "    like len(l) means length of l list and len('raja')\n",
    "    \n",
    "    2. can do indexes and slice operations, \n",
    "    like l[0] means l list's 1st item from left to right, and a='raja', a[0] is 'r'\n",
    "    \n",
    "    3. Can use it in for loops, \n",
    "    like for i in l, it will take each item of l list one by one left to right \n",
    "    \n",
    "    4. as we seen above question 9, concatenated or replicated both are posible in list and string, \n",
    "    like 'ab'+'cd' and 'a'*3\n",
    "    \n",
    "    5. in and not in operators is possible with both list and string, \n",
    "    like if 'a' in l or if 1 not in l, etc."
   ]
  },
  {
   "cell_type": "code",
   "execution_count": null,
   "id": "81caf7d4",
   "metadata": {},
   "outputs": [],
   "source": []
  },
  {
   "cell_type": "code",
   "execution_count": null,
   "id": "888de89a",
   "metadata": {},
   "outputs": [],
   "source": [
    "Q13. What's the difference between tuples and lists?\n",
    "\n",
    "A13. tuples are imutable means we can not add item or change any item in tuple, like t=(1,2,3) its a tuple\n",
    "and list is mutable in that we can add, update, delete item like l=[1,2,3,4] its a list"
   ]
  },
  {
   "cell_type": "code",
   "execution_count": null,
   "id": "8ffc8d44",
   "metadata": {},
   "outputs": [],
   "source": []
  },
  {
   "cell_type": "code",
   "execution_count": null,
   "id": "1bb764cd",
   "metadata": {},
   "outputs": [],
   "source": [
    "Q14. How do you type a tuple value that only contains the integer 42?\n",
    "\n",
    "A14. by adding comma , at last, see below"
   ]
  },
  {
   "cell_type": "code",
   "execution_count": 1,
   "id": "51773899",
   "metadata": {},
   "outputs": [],
   "source": [
    "t=(42)"
   ]
  },
  {
   "cell_type": "code",
   "execution_count": 2,
   "id": "f7022569",
   "metadata": {},
   "outputs": [
    {
     "data": {
      "text/plain": [
       "int"
      ]
     },
     "execution_count": 2,
     "metadata": {},
     "output_type": "execute_result"
    }
   ],
   "source": [
    "type(t) # if we do not give comma it will count as integer not tuple"
   ]
  },
  {
   "cell_type": "code",
   "execution_count": 5,
   "id": "2c5925f3",
   "metadata": {},
   "outputs": [],
   "source": [
    "t1=(42,) # if we give comma , it will consider as tuple"
   ]
  },
  {
   "cell_type": "code",
   "execution_count": 6,
   "id": "f223fce4",
   "metadata": {},
   "outputs": [
    {
     "data": {
      "text/plain": [
       "tuple"
      ]
     },
     "execution_count": 6,
     "metadata": {},
     "output_type": "execute_result"
    }
   ],
   "source": [
    "type(t1)"
   ]
  },
  {
   "cell_type": "code",
   "execution_count": 7,
   "id": "69694272",
   "metadata": {},
   "outputs": [
    {
     "data": {
      "text/plain": [
       "(42,)"
      ]
     },
     "execution_count": 7,
     "metadata": {},
     "output_type": "execute_result"
    }
   ],
   "source": [
    "t1"
   ]
  },
  {
   "cell_type": "code",
   "execution_count": 8,
   "id": "d4aec11d",
   "metadata": {},
   "outputs": [
    {
     "data": {
      "text/plain": [
       "42"
      ]
     },
     "execution_count": 8,
     "metadata": {},
     "output_type": "execute_result"
    }
   ],
   "source": [
    "t"
   ]
  },
  {
   "cell_type": "code",
   "execution_count": null,
   "id": "723efaf7",
   "metadata": {},
   "outputs": [],
   "source": []
  },
  {
   "cell_type": "code",
   "execution_count": null,
   "id": "4ebc1aea",
   "metadata": {},
   "outputs": [],
   "source": [
    "Q15. How do you get a list value's tuple form? How do you get a tuple value's list form?\n",
    "\n",
    "A15. by using type converstion and brackets (), see below"
   ]
  },
  {
   "cell_type": "code",
   "execution_count": 9,
   "id": "166f4668",
   "metadata": {},
   "outputs": [
    {
     "data": {
      "text/plain": [
       "[2, 3, 4]"
      ]
     },
     "execution_count": 9,
     "metadata": {},
     "output_type": "execute_result"
    }
   ],
   "source": [
    "t=(2,3,4)\n",
    "l1=list(t) #tuple to list\n",
    "l1"
   ]
  },
  {
   "cell_type": "code",
   "execution_count": 10,
   "id": "862cdc41",
   "metadata": {},
   "outputs": [
    {
     "data": {
      "text/plain": [
       "(3, 4, 5)"
      ]
     },
     "execution_count": 10,
     "metadata": {},
     "output_type": "execute_result"
    }
   ],
   "source": [
    "l2=[3,4,5]\n",
    "t1=tuple(l2)#list to tuple\n",
    "t1"
   ]
  },
  {
   "cell_type": "code",
   "execution_count": null,
   "id": "c42eeb88",
   "metadata": {},
   "outputs": [],
   "source": []
  },
  {
   "cell_type": "code",
   "execution_count": null,
   "id": "d3849f96",
   "metadata": {},
   "outputs": [],
   "source": [
    "Q16. Variables that \"contain\" list values are not necessarily lists themselves. Instead, what do they contain?\n",
    "\n",
    "A16. if it means if c1 variable contain list values of l1 list for example, but not contain list in c1 variable\n",
    "then it might contain memory location or some refernce of l1 list values \n",
    "actualy this question is not 100% clear to me, i am answering by expecting that its related to pointing any list item in a variable\n",
    "might be like that"
   ]
  },
  {
   "cell_type": "code",
   "execution_count": null,
   "id": "e0c78d72",
   "metadata": {},
   "outputs": [],
   "source": []
  },
  {
   "cell_type": "code",
   "execution_count": null,
   "id": "04e8e9bc",
   "metadata": {},
   "outputs": [],
   "source": [
    "Q17. How do you distinguish between copy.copy() and copy.deepcopy()?\n",
    "\n",
    "A17. copy.copy() will create refernce of origial list, mean if any changes made in original list it will also updated in copy\n",
    "list in nested list\n",
    "and copy.deepcopy() will create indipended new copy of orginal list, copy list will not impact to original list if any changes\n"
   ]
  },
  {
   "cell_type": "code",
   "execution_count": 54,
   "id": "9157f589",
   "metadata": {},
   "outputs": [
    {
     "data": {
      "text/plain": [
       "[1, 2, 3, 4, [11, 22, 33], 5, 6]"
      ]
     },
     "execution_count": 54,
     "metadata": {},
     "output_type": "execute_result"
    }
   ],
   "source": [
    "import copy\n",
    "l=[1,2,3,4,[11,22,33],5,6]\n",
    "cp=copy.copy(l) # here in copy feature it will auto update changes in copy list\n",
    "cp"
   ]
  },
  {
   "cell_type": "code",
   "execution_count": 55,
   "id": "461e9380",
   "metadata": {},
   "outputs": [
    {
     "data": {
      "text/plain": [
       "[1, 2, 3, 4, [11, 22, 33], 5, 6]"
      ]
     },
     "execution_count": 55,
     "metadata": {},
     "output_type": "execute_result"
    }
   ],
   "source": [
    "l"
   ]
  },
  {
   "cell_type": "code",
   "execution_count": 56,
   "id": "339e26d8",
   "metadata": {},
   "outputs": [],
   "source": [
    "l[4].append(7)"
   ]
  },
  {
   "cell_type": "code",
   "execution_count": 57,
   "id": "c7172623",
   "metadata": {},
   "outputs": [
    {
     "data": {
      "text/plain": [
       "[1, 2, 3, 4, [11, 22, 33, 7], 5, 6]"
      ]
     },
     "execution_count": 57,
     "metadata": {},
     "output_type": "execute_result"
    }
   ],
   "source": [
    "cp"
   ]
  },
  {
   "cell_type": "code",
   "execution_count": 58,
   "id": "c7d1ae49",
   "metadata": {},
   "outputs": [
    {
     "data": {
      "text/plain": [
       "[1, 2, 3, 4, [11, 22, 33, 7], 5, 6]"
      ]
     },
     "execution_count": 58,
     "metadata": {},
     "output_type": "execute_result"
    }
   ],
   "source": [
    "l"
   ]
  },
  {
   "cell_type": "code",
   "execution_count": null,
   "id": "4abe2b9d",
   "metadata": {},
   "outputs": [],
   "source": []
  },
  {
   "cell_type": "code",
   "execution_count": 74,
   "id": "3cab4a1b",
   "metadata": {},
   "outputs": [
    {
     "data": {
      "text/plain": [
       "[1, 2, 3, 4, [11, 22, 33], 5, 6]"
      ]
     },
     "execution_count": 74,
     "metadata": {},
     "output_type": "execute_result"
    }
   ],
   "source": [
    "import copy\n",
    "l1=[1,2,3,4,[11,22,33],5,6]\n",
    "cp1=copy.deepcopy(l1) # here in deepcopy feature it will not make any changes in copy list\n",
    "cp1"
   ]
  },
  {
   "cell_type": "code",
   "execution_count": 75,
   "id": "2478306e",
   "metadata": {},
   "outputs": [
    {
     "data": {
      "text/plain": [
       "[1, 2, 3, 4, [11, 22, 33], 5, 6]"
      ]
     },
     "execution_count": 75,
     "metadata": {},
     "output_type": "execute_result"
    }
   ],
   "source": [
    "l1"
   ]
  },
  {
   "cell_type": "code",
   "execution_count": 76,
   "id": "be5bc8e7",
   "metadata": {},
   "outputs": [],
   "source": [
    "l1[4].append(7)"
   ]
  },
  {
   "cell_type": "code",
   "execution_count": 77,
   "id": "8b04ad9a",
   "metadata": {},
   "outputs": [
    {
     "data": {
      "text/plain": [
       "[1, 2, 3, 4, [11, 22, 33], 5, 6]"
      ]
     },
     "execution_count": 77,
     "metadata": {},
     "output_type": "execute_result"
    }
   ],
   "source": [
    "cp1"
   ]
  },
  {
   "cell_type": "code",
   "execution_count": 78,
   "id": "1e32dc07",
   "metadata": {},
   "outputs": [
    {
     "data": {
      "text/plain": [
       "[1, 2, 3, 4, [11, 22, 33, 7], 5, 6]"
      ]
     },
     "execution_count": 78,
     "metadata": {},
     "output_type": "execute_result"
    }
   ],
   "source": [
    "l1"
   ]
  },
  {
   "cell_type": "code",
   "execution_count": null,
   "id": "ef8c566a",
   "metadata": {},
   "outputs": [],
   "source": []
  }
 ],
 "metadata": {
  "kernelspec": {
   "display_name": "Python 3 (ipykernel)",
   "language": "python",
   "name": "python3"
  },
  "language_info": {
   "codemirror_mode": {
    "name": "ipython",
    "version": 3
   },
   "file_extension": ".py",
   "mimetype": "text/x-python",
   "name": "python",
   "nbconvert_exporter": "python",
   "pygments_lexer": "ipython3",
   "version": "3.9.13"
  }
 },
 "nbformat": 4,
 "nbformat_minor": 5
}
