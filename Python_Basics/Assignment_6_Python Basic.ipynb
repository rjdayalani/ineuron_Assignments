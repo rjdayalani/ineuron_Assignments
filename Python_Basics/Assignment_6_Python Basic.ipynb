{
 "cells": [
  {
   "cell_type": "code",
   "execution_count": null,
   "id": "4d72bdd0",
   "metadata": {},
   "outputs": [],
   "source": [
    "Q1. What are escape characters, and how do you use them?\n",
    "\n",
    "A1. escape characters means some pre define charactors for printing a string, like \\(back slash) then char. name\n",
    "if use \\ it will allow you to continue code in new line but output will in same line as it should return return\n",
    "if you give \\t it will return tab (more spaces)\n",
    "if you give \\n it will return new line see below"
   ]
  },
  {
   "cell_type": "code",
   "execution_count": 2,
   "id": "9d33dad2",
   "metadata": {},
   "outputs": [
    {
     "data": {
      "text/plain": [
       "'a bc'"
      ]
     },
     "execution_count": 2,
     "metadata": {},
     "output_type": "execute_result"
    }
   ],
   "source": [
    "('a bc')"
   ]
  },
  {
   "cell_type": "code",
   "execution_count": 14,
   "id": "7c11a429",
   "metadata": {},
   "outputs": [
    {
     "data": {
      "text/plain": [
       "'a bc'"
      ]
     },
     "execution_count": 14,
     "metadata": {},
     "output_type": "execute_result"
    }
   ],
   "source": [
    "('a b\\\n",
    "c') #can also write code like that"
   ]
  },
  {
   "cell_type": "code",
   "execution_count": null,
   "id": "ed979d2d",
   "metadata": {},
   "outputs": [],
   "source": []
  },
  {
   "cell_type": "code",
   "execution_count": null,
   "id": "967fe787",
   "metadata": {},
   "outputs": [],
   "source": [
    "Q2. What do the escape characters n and t stand for?\n",
    "\n",
    "A2. \\n will give new line and \\t will give tab space, see below"
   ]
  },
  {
   "cell_type": "code",
   "execution_count": 19,
   "id": "8ac586ab",
   "metadata": {},
   "outputs": [
    {
     "name": "stdout",
     "output_type": "stream",
     "text": [
      "a\n",
      "b\n"
     ]
    }
   ],
   "source": [
    "print('a\\nb') #\\n will give you new line in return"
   ]
  },
  {
   "cell_type": "code",
   "execution_count": 25,
   "id": "295410a0",
   "metadata": {},
   "outputs": [
    {
     "name": "stdout",
     "output_type": "stream",
     "text": [
      "a\tb\n"
     ]
    }
   ],
   "source": [
    "print('a\\tb')#this will give tab (7 space)"
   ]
  },
  {
   "cell_type": "code",
   "execution_count": 26,
   "id": "21d46799",
   "metadata": {},
   "outputs": [
    {
     "name": "stdout",
     "output_type": "stream",
     "text": [
      "a       b\n"
     ]
    }
   ],
   "source": [
    "print('a       b') # same like that"
   ]
  },
  {
   "cell_type": "code",
   "execution_count": null,
   "id": "f6a09018",
   "metadata": {},
   "outputs": [],
   "source": []
  },
  {
   "cell_type": "code",
   "execution_count": null,
   "id": "c1264ea6",
   "metadata": {},
   "outputs": [],
   "source": [
    "Q3. What is the way to include backslash characters in a string?\n",
    "\n",
    "A3. to print \\ in string give space after backslash, see below"
   ]
  },
  {
   "cell_type": "code",
   "execution_count": 41,
   "id": "946ad0d9",
   "metadata": {},
   "outputs": [
    {
     "name": "stdout",
     "output_type": "stream",
     "text": [
      "5\\ 7\n"
     ]
    }
   ],
   "source": [
    "print(\"5\\ 7\")"
   ]
  },
  {
   "cell_type": "code",
   "execution_count": null,
   "id": "f5548989",
   "metadata": {},
   "outputs": [],
   "source": []
  },
  {
   "cell_type": "code",
   "execution_count": null,
   "id": "3a528026",
   "metadata": {},
   "outputs": [],
   "source": [
    "Q4. \"Howl's Moving Castle\" is a correct value. Why isn't the single quote character in the word Howl's not escaped a problem?\n",
    "\n",
    "A4. because its in double quote string, means to print single quote ' in string it must in double quote \" see belwo"
   ]
  },
  {
   "cell_type": "code",
   "execution_count": 42,
   "id": "a535fabc",
   "metadata": {},
   "outputs": [
    {
     "name": "stdout",
     "output_type": "stream",
     "text": [
      "HowI's Moving Castle\n"
     ]
    }
   ],
   "source": [
    "print(\"HowI's Moving Castle\")"
   ]
  },
  {
   "cell_type": "code",
   "execution_count": 43,
   "id": "4d48ce9e",
   "metadata": {},
   "outputs": [
    {
     "ename": "SyntaxError",
     "evalue": "invalid syntax (35689836.py, line 1)",
     "output_type": "error",
     "traceback": [
      "\u001b[1;36m  File \u001b[1;32m\"C:\\Users\\dayalr\\AppData\\Local\\Temp\\ipykernel_8628\\35689836.py\"\u001b[1;36m, line \u001b[1;32m1\u001b[0m\n\u001b[1;33m    print('HowI's Moving Castle')\u001b[0m\n\u001b[1;37m                ^\u001b[0m\n\u001b[1;31mSyntaxError\u001b[0m\u001b[1;31m:\u001b[0m invalid syntax\n"
     ]
    }
   ],
   "source": [
    "print('HowI's Moving Castle')"
   ]
  },
  {
   "cell_type": "code",
   "execution_count": null,
   "id": "671f8dbb",
   "metadata": {},
   "outputs": [],
   "source": [
    "in above if we type all in single quote it will give error of syntex as after HowI string quote is over after that s moving...\n",
    "is not understand by python"
   ]
  },
  {
   "cell_type": "code",
   "execution_count": null,
   "id": "c54ee02c",
   "metadata": {},
   "outputs": [],
   "source": [
    "same to print double quotes \"\" in string you need to use single quote in start and end, see below"
   ]
  },
  {
   "cell_type": "code",
   "execution_count": 48,
   "id": "c4646009",
   "metadata": {},
   "outputs": [
    {
     "name": "stdout",
     "output_type": "stream",
     "text": [
      "its my \"LIFE\"\n"
     ]
    }
   ],
   "source": [
    "print('its my \"LIFE\"')"
   ]
  },
  {
   "cell_type": "code",
   "execution_count": null,
   "id": "21b5fc67",
   "metadata": {},
   "outputs": [],
   "source": []
  },
  {
   "cell_type": "code",
   "execution_count": null,
   "id": "b7c448be",
   "metadata": {},
   "outputs": [],
   "source": [
    "Q5. How do you write a string of newlines if you don't want to use the n character?\n",
    "\n",
    "A5. means to print new line we use \\n in string, but without that to print we can use end=\"\\n\" its same like \\n, see below"
   ]
  },
  {
   "cell_type": "code",
   "execution_count": 50,
   "id": "0187a424",
   "metadata": {},
   "outputs": [
    {
     "name": "stdout",
     "output_type": "stream",
     "text": [
      "its old line \n",
      "its new line\n"
     ]
    }
   ],
   "source": [
    "print('its old line \\nits new line') #this is with \\n"
   ]
  },
  {
   "cell_type": "code",
   "execution_count": 51,
   "id": "33af9bec",
   "metadata": {},
   "outputs": [
    {
     "name": "stdout",
     "output_type": "stream",
     "text": [
      "its old line\n",
      "its new line\n"
     ]
    }
   ],
   "source": [
    "print('its old line',end='\\n') # its without \\n inside string\n",
    "print('its new line')"
   ]
  },
  {
   "cell_type": "code",
   "execution_count": null,
   "id": "789d991f",
   "metadata": {},
   "outputs": [],
   "source": []
  },
  {
   "cell_type": "code",
   "execution_count": null,
   "id": "6264cb6d",
   "metadata": {},
   "outputs": [],
   "source": [
    "Q6. What are the values of the given expressions?\n",
    "'Hello, world!'[1] \n",
    "'Hello, world!'[0:5] \n",
    "'Hello, world!'[:5] \n",
    "'Hello, world!'[3:]\n",
    "\n",
    "A6. [1] will return 'e'\n",
    "[0:5] will return 'Hello'\n",
    "[:5] will return 'Hello'\n",
    "[3:] will return 'lo, world!'\n",
    "\n",
    "see below"
   ]
  },
  {
   "cell_type": "code",
   "execution_count": 53,
   "id": "cdffc3d5",
   "metadata": {},
   "outputs": [
    {
     "data": {
      "text/plain": [
       "'e'"
      ]
     },
     "execution_count": 53,
     "metadata": {},
     "output_type": "execute_result"
    }
   ],
   "source": [
    "'Hello, world!'[1]"
   ]
  },
  {
   "cell_type": "code",
   "execution_count": 54,
   "id": "271f81cf",
   "metadata": {},
   "outputs": [
    {
     "data": {
      "text/plain": [
       "'Hello'"
      ]
     },
     "execution_count": 54,
     "metadata": {},
     "output_type": "execute_result"
    }
   ],
   "source": [
    "'Hello, world!'[0:5]"
   ]
  },
  {
   "cell_type": "code",
   "execution_count": 55,
   "id": "f694098b",
   "metadata": {},
   "outputs": [
    {
     "data": {
      "text/plain": [
       "'Hello'"
      ]
     },
     "execution_count": 55,
     "metadata": {},
     "output_type": "execute_result"
    }
   ],
   "source": [
    "'Hello, world!'[:5]"
   ]
  },
  {
   "cell_type": "code",
   "execution_count": 56,
   "id": "7ffbb6ff",
   "metadata": {},
   "outputs": [
    {
     "data": {
      "text/plain": [
       "'lo, world!'"
      ]
     },
     "execution_count": 56,
     "metadata": {},
     "output_type": "execute_result"
    }
   ],
   "source": [
    "'Hello, world!'[3:]"
   ]
  },
  {
   "cell_type": "code",
   "execution_count": null,
   "id": "edc91661",
   "metadata": {},
   "outputs": [],
   "source": []
  },
  {
   "cell_type": "code",
   "execution_count": 57,
   "id": "de651968",
   "metadata": {},
   "outputs": [
    {
     "name": "stdout",
     "output_type": "stream",
     "text": [
      "Object `expressions` not found.\n"
     ]
    }
   ],
   "source": [
    "Q7. What are the values of the following expressions?\n",
    "'Hello'.upper() \n",
    "'Hello'.upper().isupper() \n",
    "'Hello'.upper().lower()\n",
    "\n",
    "A7. .upper() will return 'HELLO'\n",
    ".upper().isupper() will return True\n",
    ".upper().lower() will return 'hello'\n",
    "see below"
   ]
  },
  {
   "cell_type": "code",
   "execution_count": 58,
   "id": "d9f240e1",
   "metadata": {},
   "outputs": [
    {
     "data": {
      "text/plain": [
       "'HELLO'"
      ]
     },
     "execution_count": 58,
     "metadata": {},
     "output_type": "execute_result"
    }
   ],
   "source": [
    "'Hello'.upper()"
   ]
  },
  {
   "cell_type": "code",
   "execution_count": 59,
   "id": "041b8b39",
   "metadata": {},
   "outputs": [
    {
     "data": {
      "text/plain": [
       "True"
      ]
     },
     "execution_count": 59,
     "metadata": {},
     "output_type": "execute_result"
    }
   ],
   "source": [
    "'Hello'.upper().isupper() "
   ]
  },
  {
   "cell_type": "code",
   "execution_count": 60,
   "id": "6799d4a7",
   "metadata": {},
   "outputs": [
    {
     "data": {
      "text/plain": [
       "'hello'"
      ]
     },
     "execution_count": 60,
     "metadata": {},
     "output_type": "execute_result"
    }
   ],
   "source": [
    "'Hello'.upper().lower()"
   ]
  },
  {
   "cell_type": "code",
   "execution_count": null,
   "id": "1b35cf4e",
   "metadata": {},
   "outputs": [],
   "source": []
  },
  {
   "cell_type": "code",
   "execution_count": null,
   "id": "7022483f",
   "metadata": {},
   "outputs": [],
   "source": [
    "Q8. What are the values of the following expressions?\n",
    "'Remember, remember, the fifth of July.'.split() \n",
    "'-'.join('There can only one.'.split())\n",
    "\n",
    "A8. .split() by defult will saperate from space and '-'.join(''.split()) this will joint - in place of every space, see below"
   ]
  },
  {
   "cell_type": "code",
   "execution_count": 67,
   "id": "43cf06c2",
   "metadata": {},
   "outputs": [
    {
     "data": {
      "text/plain": [
       "['Remember,', 'remember,', 'the', 'fifth', 'of', 'July.']"
      ]
     },
     "execution_count": 67,
     "metadata": {},
     "output_type": "execute_result"
    }
   ],
   "source": [
    "'Remember, remember, the fifth of July.'.split() #it will return in list"
   ]
  },
  {
   "cell_type": "code",
   "execution_count": 65,
   "id": "fcdf6ca6",
   "metadata": {},
   "outputs": [
    {
     "data": {
      "text/plain": [
       "'There-can-only-one.'"
      ]
     },
     "execution_count": 65,
     "metadata": {},
     "output_type": "execute_result"
    }
   ],
   "source": [
    "'-'.join('There can only one.'.split()) #it will return in string"
   ]
  },
  {
   "cell_type": "code",
   "execution_count": 68,
   "id": "889c26df",
   "metadata": {},
   "outputs": [
    {
     "data": {
      "text/plain": [
       "'T-h-e-r-e- -c-a-n- -o-n-l-y- -o-n-e-.'"
      ]
     },
     "execution_count": 68,
     "metadata": {},
     "output_type": "execute_result"
    }
   ],
   "source": [
    "'-'.join('There can only one.')#without split it will add - after every character and will return in string"
   ]
  },
  {
   "cell_type": "code",
   "execution_count": null,
   "id": "629ac604",
   "metadata": {},
   "outputs": [],
   "source": []
  },
  {
   "cell_type": "code",
   "execution_count": null,
   "id": "785cdd45",
   "metadata": {},
   "outputs": [],
   "source": [
    "Q9. What are the methods for right-justifying, left-justifying, and centering a string?\n",
    "\n",
    "A9. for any justfying of string use just(n,\"*\") here you need to specify n=total number of item print as here its * \n",
    "so for left just it will print string in left and after that it will print *, if more than string char n number of times, see below"
   ]
  },
  {
   "cell_type": "code",
   "execution_count": 76,
   "id": "c8a69589",
   "metadata": {},
   "outputs": [
    {
     "data": {
      "text/plain": [
       "'left justify'"
      ]
     },
     "execution_count": 76,
     "metadata": {},
     "output_type": "execute_result"
    }
   ],
   "source": [
    "'left justify'.ljust(1)#if n is less then length of string it will print as it is "
   ]
  },
  {
   "cell_type": "code",
   "execution_count": 78,
   "id": "732e4f46",
   "metadata": {},
   "outputs": [
    {
     "data": {
      "text/plain": [
       "'left justify   '"
      ]
     },
     "execution_count": 78,
     "metadata": {},
     "output_type": "execute_result"
    }
   ],
   "source": [
    "'left justify'.ljust(15)# if charector not given for justfying it will take space by defult here 3 space after y bcos\n",
    "#len of string is 12 and n is given 15 so its more than len of string so remaining 3 will space as return"
   ]
  },
  {
   "cell_type": "code",
   "execution_count": 79,
   "id": "af14ef2c",
   "metadata": {},
   "outputs": [
    {
     "data": {
      "text/plain": [
       "'left justify***'"
      ]
     },
     "execution_count": 79,
     "metadata": {},
     "output_type": "execute_result"
    }
   ],
   "source": [
    "'left justify'.ljust(15,\"*\")# here it will give 3 star * in last"
   ]
  },
  {
   "cell_type": "code",
   "execution_count": 90,
   "id": "81f15e32",
   "metadata": {},
   "outputs": [
    {
     "data": {
      "text/plain": [
       "'  right justify'"
      ]
     },
     "execution_count": 90,
     "metadata": {},
     "output_type": "execute_result"
    }
   ],
   "source": [
    "'right justify'.rjust(15)# here in right it will return first justfy item or by defualt its blank"
   ]
  },
  {
   "cell_type": "code",
   "execution_count": 96,
   "id": "4ee60b09",
   "metadata": {},
   "outputs": [
    {
     "data": {
      "text/plain": [
       "'--right justify'"
      ]
     },
     "execution_count": 96,
     "metadata": {},
     "output_type": "execute_result"
    }
   ],
   "source": [
    "'right justify'.rjust(15, \"-\")# here it will return 2 dash -"
   ]
  },
  {
   "cell_type": "code",
   "execution_count": 97,
   "id": "f3394946",
   "metadata": {},
   "outputs": [
    {
     "data": {
      "text/plain": [
       "' center justify'"
      ]
     },
     "execution_count": 97,
     "metadata": {},
     "output_type": "execute_result"
    }
   ],
   "source": [
    "'center justify'.center(15)# here it will return both side justify item or space to keep it center"
   ]
  },
  {
   "cell_type": "code",
   "execution_count": 98,
   "id": "1b8a9232",
   "metadata": {},
   "outputs": [
    {
     "data": {
      "text/plain": [
       "'**center justify*'"
      ]
     },
     "execution_count": 98,
     "metadata": {},
     "output_type": "execute_result"
    }
   ],
   "source": [
    "'center justify'.center(17,\"*\")# here out of 3 star it will return 2 in left and 1 in right"
   ]
  },
  {
   "cell_type": "code",
   "execution_count": 99,
   "id": "8fbbcd40",
   "metadata": {},
   "outputs": [
    {
     "data": {
      "text/plain": [
       "'***center justify***'"
      ]
     },
     "execution_count": 99,
     "metadata": {},
     "output_type": "execute_result"
    }
   ],
   "source": [
    "'center justify'.center(20,\"*\")# to give same size return give even numbers"
   ]
  },
  {
   "cell_type": "code",
   "execution_count": null,
   "id": "44e986a3",
   "metadata": {},
   "outputs": [],
   "source": []
  },
  {
   "cell_type": "code",
   "execution_count": null,
   "id": "0c6efa15",
   "metadata": {},
   "outputs": [],
   "source": [
    "Q10. What is the best way to remove whitespace characters from the start or end?\n",
    "\n",
    "A10.to remove space from left can use lstrip() to remove space from right use rstrip(), see below"
   ]
  },
  {
   "cell_type": "code",
   "execution_count": 101,
   "id": "8b9982e6",
   "metadata": {},
   "outputs": [
    {
     "data": {
      "text/plain": [
       "'     space at both side'"
      ]
     },
     "execution_count": 101,
     "metadata": {},
     "output_type": "execute_result"
    }
   ],
   "source": [
    "'     space at both side        '.rstrip()#remove space from right side"
   ]
  },
  {
   "cell_type": "code",
   "execution_count": 102,
   "id": "b8fe1bd6",
   "metadata": {},
   "outputs": [
    {
     "data": {
      "text/plain": [
       "'space at both side        '"
      ]
     },
     "execution_count": 102,
     "metadata": {},
     "output_type": "execute_result"
    }
   ],
   "source": [
    "'     space at both side        '.lstrip()#remove space from left side"
   ]
  },
  {
   "cell_type": "code",
   "execution_count": 104,
   "id": "78e505a1",
   "metadata": {},
   "outputs": [
    {
     "data": {
      "text/plain": [
       "'space at both side'"
      ]
     },
     "execution_count": 104,
     "metadata": {},
     "output_type": "execute_result"
    }
   ],
   "source": [
    "'     space at both side        '.strip()#remove space from both side"
   ]
  },
  {
   "cell_type": "code",
   "execution_count": null,
   "id": "4a983952",
   "metadata": {},
   "outputs": [],
   "source": []
  },
  {
   "cell_type": "code",
   "execution_count": null,
   "id": "808ddb64",
   "metadata": {},
   "outputs": [],
   "source": []
  }
 ],
 "metadata": {
  "kernelspec": {
   "display_name": "Python 3 (ipykernel)",
   "language": "python",
   "name": "python3"
  },
  "language_info": {
   "codemirror_mode": {
    "name": "ipython",
    "version": 3
   },
   "file_extension": ".py",
   "mimetype": "text/x-python",
   "name": "python",
   "nbconvert_exporter": "python",
   "pygments_lexer": "ipython3",
   "version": "3.9.13"
  }
 },
 "nbformat": 4,
 "nbformat_minor": 5
}
