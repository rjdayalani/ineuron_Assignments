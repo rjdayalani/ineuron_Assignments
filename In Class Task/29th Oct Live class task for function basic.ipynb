{
 "cells": [
  {
   "cell_type": "code",
   "execution_count": null,
   "id": "2e92c238",
   "metadata": {},
   "outputs": [],
   "source": [
    "def len1(): #never use inbuilt function name again, it will replace it with ur code in this file\n",
    "    '''Same like len function in python to find length of any variable'''\n",
    "    k=0\n",
    "    a=str(input('enter name to find its lenth : '))\n",
    "    for i in a:\n",
    "        k+=1\n",
    "    return k"
   ]
  },
  {
   "cell_type": "code",
   "execution_count": null,
   "id": "fc31806e",
   "metadata": {},
   "outputs": [],
   "source": []
  },
  {
   "cell_type": "code",
   "execution_count": null,
   "id": "f0c740a5",
   "metadata": {},
   "outputs": [],
   "source": [
    "def len2():\n",
    "    '''this function will return index of a list's each item without index function'''\n",
    "    k=0\n",
    "    a=['raja',1,2.3,True]\n",
    "    for i in a:\n",
    "        k+=1\n",
    "        print(f'index of {i} is {k-1} ')\n",
    "    return k"
   ]
  },
  {
   "cell_type": "code",
   "execution_count": null,
   "id": "bac1fe65",
   "metadata": {},
   "outputs": [],
   "source": []
  },
  {
   "cell_type": "code",
   "execution_count": null,
   "id": "6e658496",
   "metadata": {},
   "outputs": [],
   "source": [
    "# Python Program to Get IP Address\n",
    "def hostip():\n",
    "    '''this function will return ip address and hostname of system'''\n",
    "    import socket\n",
    "    hostname = socket.gethostname()\n",
    "    IPAddr = socket.gethostbyname(hostname) #byname is for ip address\n",
    "    dom = socket.gethostbyaddr(hostname) # output will be in tuple and ip in list, and ip is string\n",
    "\n",
    "    print(\"Your Computer Name is:\" + hostname)\n",
    "    print(\"Your Computer IP Address is:\" + IPAddr)\n",
    "    print(dom)"
   ]
  },
  {
   "cell_type": "code",
   "execution_count": null,
   "id": "3713bc06",
   "metadata": {},
   "outputs": [],
   "source": []
  },
  {
   "cell_type": "code",
   "execution_count": null,
   "id": "c2b4f017",
   "metadata": {},
   "outputs": [],
   "source": [
    "import os\n",
    "def shut():\n",
    "    a=os.system(\"shutdown /s /t 1\")\n",
    "    return a #try after save all files and close it"
   ]
  },
  {
   "cell_type": "code",
   "execution_count": null,
   "id": "a530b0e9",
   "metadata": {},
   "outputs": [],
   "source": [
    "#write a code in function that will take list in input and multiple all numeric value and return final total\n",
    "def numtot():\n",
    "    '''this function will return the total of mulitipication of each numeric item'''\n",
    "    \n",
    "    tot=1\n",
    "    a=(input('enter list values '))\n",
    "    usr_input=a.split(\" \") # all input will saperaate by space\n",
    "    for i in range(len(usr_input)):\n",
    "        new_list=usr_input[i].strip() #if any space in input string it will remove\n",
    "        if new_list.isdigit():\n",
    "            usr_input[i]=int(new_list)\n",
    "        elif new_list==True or new_list==False:\n",
    "            usr_input[i]=bool(new_list)\n",
    "        elif '.' in new_list:\n",
    "            usr_input[i]=float(new_list)\n",
    "        elif '+' in new_list:\n",
    "            usr_input[i]=complex(new_list)\n",
    "        #else:\n",
    "         \n",
    "            #usr_input[i]=new_list\n",
    "    print(usr_input)\n",
    "    for i in usr_input:\n",
    "        if type(i)==int or type(i)==float:\n",
    "            tot=tot*i\n",
    "    return tot"
   ]
  },
  {
   "cell_type": "code",
   "execution_count": null,
   "id": "e7c3b741",
   "metadata": {},
   "outputs": [],
   "source": []
  },
  {
   "cell_type": "code",
   "execution_count": null,
   "id": "e59c278f",
   "metadata": {},
   "outputs": [],
   "source": [
    "#note - i tried it but its giving some error, find this code from internet search\n",
    "import docx\n",
    "\n",
    "def readtxt(filename):\n",
    "    '''this function will read doc file'''\n",
    "    doc = docx.Document(filename)\n",
    "    fullText = []\n",
    "    for para in doc.paragraphs:\n",
    "        fullText.append(para.text)\n",
    "    return '\\n'.join(fullText)\n",
    "\n",
    "print (readtxt('path\\Tutorialspoint.docx'))"
   ]
  },
  {
   "cell_type": "code",
   "execution_count": null,
   "id": "5cb58d29",
   "metadata": {},
   "outputs": [],
   "source": [
    "#for sending and reading mails found very tuff, not able to understand code well on internet so didn't add"
   ]
  }
 ],
 "metadata": {
  "kernelspec": {
   "display_name": "Python 3 (ipykernel)",
   "language": "python",
   "name": "python3"
  },
  "language_info": {
   "codemirror_mode": {
    "name": "ipython",
    "version": 3
   },
   "file_extension": ".py",
   "mimetype": "text/x-python",
   "name": "python",
   "nbconvert_exporter": "python",
   "pygments_lexer": "ipython3",
   "version": "3.9.13"
  }
 },
 "nbformat": 4,
 "nbformat_minor": 5
}
